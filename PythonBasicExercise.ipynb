{
 "cells": [
  {
   "cell_type": "markdown",
   "metadata": {},
   "source": [
    "1. 볼펜이 456개가 있다. 총 학생 수가 30명인데, 모든 학생이 똑같이 나눠가졌을 때,  \n",
    "한명 당 나눠갖는 볼펜 수와 나머지를 구하시오."
   ]
  },
  {
   "cell_type": "code",
   "execution_count": 2,
   "metadata": {},
   "outputs": [
    {
     "data": {
      "text/plain": [
       "(15, 6)"
      ]
     },
     "execution_count": 2,
     "metadata": {},
     "output_type": "execute_result"
    }
   ],
   "source": [
    "pen = 456\n",
    "student = 30\n",
    "\n",
    "pen // student, pen % student"
   ]
  },
  {
   "cell_type": "markdown",
   "metadata": {},
   "source": [
    "2. 정수 1234에서 일의 자리를 버리는 코드를 작성하시오.  \n",
    "1234 -> 1230  \n",
    "4321 -> 4320"
   ]
  },
  {
   "cell_type": "code",
   "execution_count": 3,
   "metadata": {},
   "outputs": [
    {
     "data": {
      "text/plain": [
       "1230"
      ]
     },
     "execution_count": 3,
     "metadata": {},
     "output_type": "execute_result"
    }
   ],
   "source": [
    "number = 1234\n",
    "\n",
    "number // 10 * 10"
   ]
  },
  {
   "cell_type": "markdown",
   "metadata": {},
   "source": [
    "3. 윗변의 길이가 5, 아랫변의 길이가 10, 높이가 7인 사다리꼴의 넓이를 구하시오.  \n",
    "사다리꼴 넓이 구하는 공식 : (윗변+아랫변) * 높이 / 2"
   ]
  },
  {
   "cell_type": "code",
   "execution_count": 4,
   "metadata": {},
   "outputs": [
    {
     "data": {
      "text/plain": [
       "52.5"
      ]
     },
     "execution_count": 4,
     "metadata": {},
     "output_type": "execute_result"
    }
   ],
   "source": [
    "top = 5\n",
    "bottom = 10\n",
    "height = 7\n",
    "\n",
    "(top+bottom) * height / 2"
   ]
  },
  {
   "cell_type": "markdown",
   "metadata": {},
   "source": [
    "4. 아래 리스트의 요소 중 가장 큰 수 찾기"
   ]
  },
  {
   "cell_type": "code",
   "execution_count": 5,
   "metadata": {},
   "outputs": [
    {
     "data": {
      "text/plain": [
       "20"
      ]
     },
     "execution_count": 5,
     "metadata": {},
     "output_type": "execute_result"
    }
   ],
   "source": [
    "a = [5, 10, 1, 20, 15, 3]\n",
    "\n",
    "m = 0\n",
    "for v in a :\n",
    "    if v > m :\n",
    "        m = v\n",
    "m"
   ]
  },
  {
   "cell_type": "code",
   "execution_count": 6,
   "metadata": {},
   "outputs": [
    {
     "data": {
      "text/plain": [
       "20"
      ]
     },
     "execution_count": 6,
     "metadata": {},
     "output_type": "execute_result"
    }
   ],
   "source": [
    "max(a)"
   ]
  },
  {
   "cell_type": "code",
   "execution_count": 7,
   "metadata": {},
   "outputs": [
    {
     "data": {
      "text/plain": [
       "1"
      ]
     },
     "execution_count": 7,
     "metadata": {},
     "output_type": "execute_result"
    }
   ],
   "source": [
    "min(a)"
   ]
  },
  {
   "cell_type": "markdown",
   "metadata": {},
   "source": [
    "for문을 이용하여 '*' 을 아래와 같이 출력하시오. (5~7번)"
   ]
  },
  {
   "cell_type": "code",
   "execution_count": 2,
   "metadata": {},
   "outputs": [
    {
     "name": "stdout",
     "output_type": "stream",
     "text": [
      "*\n",
      "**\n",
      "***\n",
      "****\n",
      "*****\n"
     ]
    }
   ],
   "source": [
    "\"\"\"\n",
    "5번\n",
    "\n",
    "*\n",
    "**\n",
    "***\n",
    "****\n",
    "*****\n",
    "\"\"\"\n",
    "for i in range(1,6):\n",
    "    print('*'*i)"
   ]
  },
  {
   "cell_type": "code",
   "execution_count": 5,
   "metadata": {},
   "outputs": [
    {
     "name": "stdout",
     "output_type": "stream",
     "text": [
      "*****\n",
      "****\n",
      "***\n",
      "**\n",
      "*\n"
     ]
    }
   ],
   "source": [
    "'''\n",
    "6번\n",
    "*****\n",
    "****\n",
    "***\n",
    "**\n",
    "*\n",
    "'''\n",
    "for i in range(5,0,-1):\n",
    "    print('*'*i)"
   ]
  },
  {
   "cell_type": "code",
   "execution_count": 8,
   "metadata": {},
   "outputs": [
    {
     "name": "stdout",
     "output_type": "stream",
     "text": [
      "    *\n",
      "   ***\n",
      "  *****\n",
      " *******\n",
      "*********\n"
     ]
    }
   ],
   "source": [
    "'''\n",
    "7번\n",
    "    *\n",
    "   ***\n",
    "  *****\n",
    " *******\n",
    "*********\n",
    "공백 : 4,3,2,1,0\n",
    "별 :   1,3,5,7,9\n",
    "i :    1,2,3,4,5\n",
    "'''\n",
    "for i in range(1,6):\n",
    "    print(' '*(5-i),end='')\n",
    "    print('*'*(i*2-1))"
   ]
  },
  {
   "cell_type": "code",
   "execution_count": 1,
   "metadata": {},
   "outputs": [
    {
     "name": "stdout",
     "output_type": "stream",
     "text": [
      "    *\n",
      "   ***\n",
      "  *****\n",
      " *******\n",
      "*********\n"
     ]
    }
   ],
   "source": [
    "# 4,3,2,1,0\n",
    "# 1,3,5,7,9\n",
    "# 9-(i*2)\n",
    "for i in range(4,-1,-1):\n",
    "    print(' '*i, end='')\n",
    "    j = 9-(i*2)\n",
    "    print('*'*j)\n",
    "    "
   ]
  },
  {
   "cell_type": "markdown",
   "metadata": {},
   "source": [
    "8. 로또번호를 리스트로 출력하는 함수를 정의하시오.  \n",
    "함수의 매개변수는 로또번호의 갯수를 입력받아 갯수만큼 1~45의 랜덤수를 리스트에 담아 출력  \n",
    "예) lotto(3) -> [1,2,3]"
   ]
  },
  {
   "cell_type": "code",
   "execution_count": 8,
   "metadata": {},
   "outputs": [
    {
     "data": {
      "text/plain": [
       "[39, 40, 19, 44, 31]"
      ]
     },
     "execution_count": 8,
     "metadata": {},
     "output_type": "execute_result"
    }
   ],
   "source": [
    "def lotto(cnt):\n",
    "    import random\n",
    "\n",
    "    lo = []\n",
    "    while True:\n",
    "        num = random.randrange(1,46)\n",
    "        # 중복이 아니면 리스트에 추가\n",
    "        if num not in lo:\n",
    "            lo.append(num)\n",
    "        # 길이 확인\n",
    "        if len(lo) == cnt:\n",
    "            return lo\n",
    "    #return lo\n",
    "\n",
    "lotto(5)"
   ]
  },
  {
   "cell_type": "markdown",
   "metadata": {},
   "source": [
    "9. 1~100까지의 숫자 맞히기 게임  \n",
    "사용자에게 숫자를 입력받아  \n",
    "랜덤숫자보다 작으면 '큰 수를 입력하세요' 출력  \n",
    "랜덤숫자보다 크면 '작은 수를 입력하세요' 출력  \n",
    "정답이면 '정답입니다. 총 시도횟수 0회' 출력\n"
   ]
  },
  {
   "cell_type": "code",
   "execution_count": 7,
   "metadata": {},
   "outputs": [
    {
     "name": "stdout",
     "output_type": "stream",
     "text": [
      "숫자를 입력하세요45\n",
      "큰 수를 입력하세요\n",
      "숫자를 입력하세요6\n",
      "큰 수를 입력하세요\n",
      "숫자를 입력하세요60\n",
      "큰 수를 입력하세요\n",
      "숫자를 입력하세요70\n",
      "큰 수를 입력하세요\n",
      "숫자를 입력하세요80\n",
      "작은 수를 입력하세요\n",
      "숫자를 입력하세요75\n",
      "큰 수를 입력하세요\n",
      "숫자를 입력하세요78\n",
      "작은 수를 입력하세요\n",
      "숫자를 입력하세요77\n",
      "작은 수를 입력하세요\n",
      "숫자를 입력하세요76\n",
      "정답입니다. 총 시도횟수 9회\n"
     ]
    }
   ],
   "source": [
    "# 1~100사이의 랜덤숫자\n",
    "import random\n",
    "num = random.randrange(1,101)\n",
    "count = 0\n",
    "# 반복\n",
    "while True:\n",
    "    user_num = int(input('숫자를 입력하세요'))\n",
    "    count += 1\n",
    "    if user_num < num :\n",
    "        print('큰 수를 입력하세요')\n",
    "    elif user_num > num :\n",
    "        print('작은 수를 입력하세요')\n",
    "    else:\n",
    "        print('정답입니다. 총 시도횟수 {}회'.format(count))\n",
    "        break"
   ]
  },
  {
   "cell_type": "code",
   "execution_count": null,
   "metadata": {},
   "outputs": [],
   "source": []
  }
 ],
 "metadata": {
  "kernelspec": {
   "display_name": "Python 3",
   "language": "python",
   "name": "python3"
  },
  "language_info": {
   "codemirror_mode": {
    "name": "ipython",
    "version": 3
   },
   "file_extension": ".py",
   "mimetype": "text/x-python",
   "name": "python",
   "nbconvert_exporter": "python",
   "pygments_lexer": "ipython3",
   "version": "3.8.5"
  }
 },
 "nbformat": 4,
 "nbformat_minor": 4
}
