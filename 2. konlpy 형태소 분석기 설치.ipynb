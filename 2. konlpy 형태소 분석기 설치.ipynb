{
 "cells": [
  {
   "cell_type": "code",
   "execution_count": null,
   "metadata": {},
   "outputs": [],
   "source": [
    "# konlpy 설치\n",
    "!pip install konlpy"
   ]
  },
  {
   "cell_type": "code",
   "execution_count": null,
   "metadata": {},
   "outputs": [],
   "source": [
    "# java 1.7 이상 설치\n",
    "# 환경변수 등록"
   ]
  },
  {
   "cell_type": "code",
   "execution_count": null,
   "metadata": {},
   "outputs": [],
   "source": [
    "# 윈도우용 Mecab 설치\n",
    "# 은전한닢 프로젝트\n",
    "# https://somjang.tistory.com/entry/Windows-%EC%97%90%EC%84%9C-Mecab-mecab-%EA%B8%B0%EB%B0%98-%ED%95%9C%EA%B5%AD%EC%96%B4-%ED%98%95%ED%83%9C%EC%86%8C-%EB%B6%84%EC%84%9D%EA%B8%B0-%EC%84%A4%EC%B9%98%ED%95%98%EB%8A%94-%EB%B0%A9%EB%B2%95\n",
    "# mecab 설치(오류나면 Visual C++ 설치)"
   ]
  },
  {
   "cell_type": "code",
   "execution_count": 1,
   "metadata": {},
   "outputs": [],
   "source": [
    "from eunjeon import Mecab"
   ]
  },
  {
   "cell_type": "code",
   "execution_count": 2,
   "metadata": {},
   "outputs": [
    {
     "data": {
      "text/plain": [
       "[('안녕', 'NNG'), ('하', 'XSV'), ('세요', 'EP+EF')]"
      ]
     },
     "execution_count": 2,
     "metadata": {},
     "output_type": "execute_result"
    }
   ],
   "source": [
    "mecab = Mecab()\n",
    "mecab.pos('안녕하세요')"
   ]
  },
  {
   "cell_type": "code",
   "execution_count": 3,
   "metadata": {},
   "outputs": [],
   "source": [
    "import konlpy\n",
    "from konlpy.tag import Kkma\n",
    "from konlpy.tag import Komoran\n",
    "from konlpy.tag import Hannanum\n",
    "from konlpy.tag import Okt"
   ]
  },
  {
   "cell_type": "markdown",
   "metadata": {},
   "source": [
    "### JPype 설치\n",
    "* 형태소분석기 클래스 객체 생성 안될 시(jvm 에러...)\n",
    "* 휠파일 다운로드 (https://www.lfd.uci.edu/~gohlke/pythonlibs/#jpype)\n",
    "* 파이썬 버전(python --version)에 맞는 휠파일 다운로드\n",
    "* 아나콘다 설치 경로(C:\\Users\\계정명\\anaconda3\\Lib\\site-packages)에 복사\n",
    "* 폴더 이동 (cd C:\\Users\\계정명\\anaconda3\\Lib\\site-packages)\n",
    "* pip install JPype1-1.2.0-cp38-cp38-win_amd64.whl --user\n",
    "* 커널 재시작"
   ]
  },
  {
   "cell_type": "code",
   "execution_count": 4,
   "metadata": {},
   "outputs": [],
   "source": [
    "kkma = Kkma()\n",
    "komoran = Komoran()\n",
    "hannanum = Hannanum()\n",
    "okt = Okt()"
   ]
  },
  {
   "cell_type": "markdown",
   "metadata": {},
   "source": [
    "### 형태소분석기 비교"
   ]
  },
  {
   "cell_type": "code",
   "execution_count": 5,
   "metadata": {},
   "outputs": [],
   "source": [
    "text = \"아버지가방에들어가신다\""
   ]
  },
  {
   "cell_type": "code",
   "execution_count": 6,
   "metadata": {},
   "outputs": [
    {
     "data": {
      "text/plain": [
       "[('아버지', 'NNG'),\n",
       " ('가방', 'NNG'),\n",
       " ('에', 'JKM'),\n",
       " ('들어가', 'VV'),\n",
       " ('시', 'EPH'),\n",
       " ('ㄴ다', 'EFN')]"
      ]
     },
     "execution_count": 6,
     "metadata": {},
     "output_type": "execute_result"
    }
   ],
   "source": [
    "# 꼬꼬마\n",
    "kkma.pos(text)"
   ]
  },
  {
   "cell_type": "code",
   "execution_count": 7,
   "metadata": {},
   "outputs": [
    {
     "data": {
      "text/plain": [
       "[('아버지', 'NNG'),\n",
       " ('가방', 'NNP'),\n",
       " ('에', 'JKB'),\n",
       " ('들어가', 'VV'),\n",
       " ('시', 'EP'),\n",
       " ('ㄴ다', 'EC')]"
      ]
     },
     "execution_count": 7,
     "metadata": {},
     "output_type": "execute_result"
    }
   ],
   "source": [
    "# 코모란\n",
    "komoran.pos(text)"
   ]
  },
  {
   "cell_type": "code",
   "execution_count": 8,
   "metadata": {},
   "outputs": [
    {
     "data": {
      "text/plain": [
       "[('아버지가방에들어가', 'N'), ('이', 'J'), ('시ㄴ다', 'E')]"
      ]
     },
     "execution_count": 8,
     "metadata": {},
     "output_type": "execute_result"
    }
   ],
   "source": [
    "# 한나눔\n",
    "hannanum.pos(text)"
   ]
  },
  {
   "cell_type": "code",
   "execution_count": 9,
   "metadata": {},
   "outputs": [
    {
     "data": {
      "text/plain": [
       "[('아버지', 'Noun'), ('가방', 'Noun'), ('에', 'Josa'), ('들어가신다', 'Verb')]"
      ]
     },
     "execution_count": 9,
     "metadata": {},
     "output_type": "execute_result"
    }
   ],
   "source": [
    "# okt\n",
    "okt.pos(text)"
   ]
  },
  {
   "cell_type": "code",
   "execution_count": 10,
   "metadata": {},
   "outputs": [
    {
     "data": {
      "text/plain": [
       "[('아버지', 'NNG'), ('가방', 'NNG'), ('에', 'JKB'), ('들어가', 'VV'), ('신다', 'EP+EC')]"
      ]
     },
     "execution_count": 10,
     "metadata": {},
     "output_type": "execute_result"
    }
   ],
   "source": [
    "# mecab\n",
    "mecab.pos(text)"
   ]
  },
  {
   "cell_type": "code",
   "execution_count": 11,
   "metadata": {},
   "outputs": [],
   "source": [
    "# 오타 테스트\n",
    "text = 'ㄷㅗㅇㅎㅐㅁㅜㄹ과 백두산이 마르고 닳도록'"
   ]
  },
  {
   "cell_type": "code",
   "execution_count": 12,
   "metadata": {},
   "outputs": [
    {
     "name": "stdout",
     "output_type": "stream",
     "text": [
      "꼬꼬마 : [('ㄷ', 'NNG'), ('ㅗ', 'UN'), ('ㅇ', 'NNG'), ('ㅎ', 'NNG'), ('ㅐ', 'UN'), ('ㅁ', 'NNG'), ('ㅜ', 'UN'), ('ㄹ', 'JKO'), ('과', 'NNG'), ('백두산', 'NNP'), ('이', 'JKS'), ('마르', 'VV'), ('고', 'ECE'), ('닳', 'VV'), ('도록', 'ECD')]\n",
      "코모란 : [('동해물과 백두산이', 'NNP'), ('마르고', 'NNP'), ('닳', 'VV'), ('도록', 'EC')]\n",
      "한나눔 : [('ㄷㅗㅇㅎㅐㅁㅜㄹ', 'N'), ('과', 'J'), ('백두산', 'N'), ('이', 'J'), ('마르', 'P'), ('고', 'E'), ('닳', 'P'), ('도록', 'E')]\n",
      "okt : [('ㄷㅗㅇㅎㅐㅁㅜㄹ', 'KoreanParticle'), ('과', 'Noun'), ('백두산', 'Noun'), ('이', 'Josa'), ('마르고', 'Noun'), ('닳도록', 'Verb')]\n",
      "mecab : [('ㄷ', 'NNG'), ('ㅗㅇㅎㅐㅁㅜㄹ과', 'UNKNOWN'), ('백두산', 'NNP'), ('이', 'JKS'), ('마르', 'VV'), ('고', 'EC'), ('닳', 'VV'), ('도록', 'EC')]\n"
     ]
    }
   ],
   "source": [
    "print('꼬꼬마 : {}'.format(kkma.pos(text)))\n",
    "print('코모란 : {}'.format(komoran.pos(text)))\n",
    "print('한나눔 : {}'.format(hannanum.pos(text)))\n",
    "print('okt : {}'.format(okt.pos(text)))\n",
    "print('mecab : {}'.format(mecab.pos(text)))"
   ]
  },
  {
   "cell_type": "markdown",
   "metadata": {},
   "source": [
    "### 속도 테스트\n",
    "* %%time"
   ]
  },
  {
   "cell_type": "code",
   "execution_count": 14,
   "metadata": {},
   "outputs": [],
   "source": [
    "text = '''전자랜드, 냉장고·TV 신장률 두자릿 수 증가언택트 소비에 대형가전 소비 트렌드 지각변동고객들이 전자랜드 매장에서 냉장고를 살펴보고 있다. [사진제공=전자랜드][헤럴드경제=신소연 기자]TV나 냉장고 등 고가의 대형가전 구매시 눈으로 직접 보고 사야 한다는 소비 공식이 깨졌다. 신종 코로나바이러스 감염증(코로나19) 확산으로 언택트(Untact, 비대면) 소비가 확산하자 대형가전 마저도 온라인에서 구매하려는 수요가 많아졌다. 가전매장에서 냉장고 4대 중 1대는 온라인으로 판매될 정도다.7일 전자랜드의 지난해 온라인 판매 분석 결과를 보면, 대표적인 대형가전인 냉장고의 온라인 판매는 전년 동기 대비 77% 급증했다. TV와 드럼세탁기 역시 온라인 판매가 각각 68%와 16% 늘며 두자릿 수 성장세를 기록했다.특히 냉장고는 전체 판매량에서 온라인이 차지하는 비중이 2019년 16%에서 2020년 23%로 7%포인트나 확대됐다. 전자랜드에서 냉장고를 구매한 고객 4명 중 1명은 전자랜드의 인터넷 홈페이지나 전용 앱(App) 등 온라인 채널을 통해서 구매한 셈이다.보통 TV나 냉장고 같은 대형가전은 소형가전보다 가격이 비싸기 때문에 매장에 방문해 직접 제품을 체험해본 뒤 신중하게 구매하는 제품군이다. 하지만 지난해부터 코로나19 확산에 따른 사회적 거리두기가 장기화하자 언택트 소비가 뉴노멀로 자리잡으면서 대형가전 소비 트렌드에도 영향을 준 것으로 분석된다. 특히 온라인 쇼핑에 익숙한 MZ(밀레니얼+Z)세대가 가전제품 구매의 주축이 될 것으로 예상되는만큼 대형가전의 온라인 판매도 점점 늘어날 것으로 예상된다.전자랜드 관계자는 “여전히 매장에 방문해 가전을 구매하는 고객이 85%로 더 많은 비중을 차지하고 있지만, 몇몇 품목의 경우 온라인 판매가 눈에 띄게 늘었다”며 “전자랜드는 고객들이 어떤 채널을 이용하더라도 합리적인 가격으로 가전을 구매할 수 있도록 할 것”이라고 말했다.한편 전자랜드는 오는 31일까지 ‘삼성전자 세일 페스타’를 진행한다. 전자랜드는 온오프라인에서 동시 진행되는 이번 행사에서 삼성전자의 비스포크 냉장고, 크리스탈 4K UHD TV, 그랑데 AI 세탁기 등 인기 대형가전을 최대 53%까지 할인 판매한다.carrier@heraldcorp.com▶환경적 대화기구 '헤럴드에코'▶밀리터리 전문 콘텐츠 ‘헤밀’▶헤럴드경제 네이버 채널 구독- Copyrights ⓒ 헤럴드경제 & heraldbiz.com, 무단 전재 및 재배포 금지 -'''"
   ]
  },
  {
   "cell_type": "code",
   "execution_count": 15,
   "metadata": {},
   "outputs": [
    {
     "name": "stdout",
     "output_type": "stream",
     "text": [
      "Wall time: 1.31 s\n"
     ]
    },
    {
     "data": {
      "text/plain": [
       "[('전자', 'NNG'), ('랜드', 'NNG'), (',', 'SP'), ('냉장고', 'NNG'), ('·', 'SP')]"
      ]
     },
     "execution_count": 15,
     "metadata": {},
     "output_type": "execute_result"
    }
   ],
   "source": [
    "%%time\n",
    "kkma.pos(text)[:5]"
   ]
  },
  {
   "cell_type": "code",
   "execution_count": 16,
   "metadata": {},
   "outputs": [
    {
     "name": "stdout",
     "output_type": "stream",
     "text": [
      "Wall time: 129 ms\n"
     ]
    },
    {
     "data": {
      "text/plain": [
       "[('전자랜드', 'NNP'), (',', 'SP'), ('냉장고', 'NNP'), ('·', 'SP'), ('TV', 'NNP')]"
      ]
     },
     "execution_count": 16,
     "metadata": {},
     "output_type": "execute_result"
    }
   ],
   "source": [
    "%%time\n",
    "komoran.pos(text)[:5]"
   ]
  },
  {
   "cell_type": "code",
   "execution_count": 17,
   "metadata": {},
   "outputs": [
    {
     "name": "stdout",
     "output_type": "stream",
     "text": [
      "Wall time: 172 ms\n"
     ]
    },
    {
     "data": {
      "text/plain": [
       "[('전자랜드', 'N'), (',', 'S'), ('냉장고·TV', 'N'), ('신장률', 'N'), ('두자릿', 'N')]"
      ]
     },
     "execution_count": 17,
     "metadata": {},
     "output_type": "execute_result"
    }
   ],
   "source": [
    "%%time\n",
    "hannanum.pos(text)[:5]"
   ]
  },
  {
   "cell_type": "code",
   "execution_count": 18,
   "metadata": {},
   "outputs": [
    {
     "name": "stdout",
     "output_type": "stream",
     "text": [
      "Wall time: 465 ms\n"
     ]
    },
    {
     "data": {
      "text/plain": [
       "[('전자랜드', 'Noun'),\n",
       " (',', 'Punctuation'),\n",
       " ('냉장고', 'Noun'),\n",
       " ('·', 'Punctuation'),\n",
       " ('TV', 'Alpha')]"
      ]
     },
     "execution_count": 18,
     "metadata": {},
     "output_type": "execute_result"
    }
   ],
   "source": [
    "%%time\n",
    "okt.pos(text)[:5]"
   ]
  },
  {
   "cell_type": "code",
   "execution_count": 20,
   "metadata": {},
   "outputs": [
    {
     "name": "stdout",
     "output_type": "stream",
     "text": [
      "Wall time: 1.99 ms\n"
     ]
    },
    {
     "data": {
      "text/plain": [
       "[('전', 'MM'), ('자랜드', 'NNP'), (',', 'SC'), ('냉장고', 'NNG'), ('·', 'SC')]"
      ]
     },
     "execution_count": 20,
     "metadata": {},
     "output_type": "execute_result"
    }
   ],
   "source": [
    "%%time\n",
    "mecab.pos(text)[:5]"
   ]
  },
  {
   "cell_type": "code",
   "execution_count": null,
   "metadata": {},
   "outputs": [],
   "source": []
  }
 ],
 "metadata": {
  "kernelspec": {
   "display_name": "Python 3",
   "language": "python",
   "name": "python3"
  },
  "language_info": {
   "codemirror_mode": {
    "name": "ipython",
    "version": 3
   },
   "file_extension": ".py",
   "mimetype": "text/x-python",
   "name": "python",
   "nbconvert_exporter": "python",
   "pygments_lexer": "ipython3",
   "version": "3.8.5"
  }
 },
 "nbformat": 4,
 "nbformat_minor": 4
}
