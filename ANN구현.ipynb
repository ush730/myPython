{
 "cells": [
  {
   "cell_type": "code",
   "execution_count": 1,
   "metadata": {},
   "outputs": [],
   "source": [
    "import tensorflow as tf\n",
    "from tensorflow.keras import datasets"
   ]
  },
  {
   "cell_type": "code",
   "execution_count": 2,
   "metadata": {},
   "outputs": [],
   "source": [
    "# MNIST (손글씨)\n",
    "data = datasets.mnist\n",
    "(train_x, train_y), (test_x, test_y) = data.load_data()"
   ]
  },
  {
   "cell_type": "code",
   "execution_count": 3,
   "metadata": {},
   "outputs": [
    {
     "data": {
      "text/plain": [
       "numpy.ndarray"
      ]
     },
     "execution_count": 3,
     "metadata": {},
     "output_type": "execute_result"
    }
   ],
   "source": [
    "type(train_x)"
   ]
  },
  {
   "cell_type": "code",
   "execution_count": 4,
   "metadata": {},
   "outputs": [
    {
     "data": {
      "text/plain": [
       "(60000, 28, 28)"
      ]
     },
     "execution_count": 4,
     "metadata": {},
     "output_type": "execute_result"
    }
   ],
   "source": [
    "train_x.shape"
   ]
  },
  {
   "cell_type": "code",
   "execution_count": 5,
   "metadata": {},
   "outputs": [
    {
     "data": {
      "text/plain": [
       "(28, 28)"
      ]
     },
     "execution_count": 5,
     "metadata": {},
     "output_type": "execute_result"
    }
   ],
   "source": [
    "train_x[0].shape"
   ]
  },
  {
   "cell_type": "code",
   "execution_count": 6,
   "metadata": {},
   "outputs": [
    {
     "data": {
      "text/plain": [
       "((60000, 28, 28), (60000,), (10000, 28, 28), (10000,))"
      ]
     },
     "execution_count": 6,
     "metadata": {},
     "output_type": "execute_result"
    }
   ],
   "source": [
    "train_x.shape, train_y.shape, test_x.shape, test_y.shape"
   ]
  },
  {
   "cell_type": "code",
   "execution_count": 7,
   "metadata": {},
   "outputs": [
    {
     "data": {
      "image/png": "[encoded data removed]",
      "text/plain": [
       "<Figure size 432x288 with 1 Axes>"
      ]
     },
     "metadata": {
      "needs_background": "light"
     },
     "output_type": "display_data"
    }
   ],
   "source": [
    "import matplotlib.pyplot as plt\n",
    "plt.imshow(train_x[2], 'gray')\n",
    "plt.show()"
   ]
  },
  {
   "cell_type": "code",
   "execution_count": 8,
   "metadata": {},
   "outputs": [
    {
     "data": {
      "text/plain": [
       "5"
      ]
     },
     "execution_count": 8,
     "metadata": {},
     "output_type": "execute_result"
    }
   ],
   "source": [
    "train_y[0]"
   ]
  },
  {
   "cell_type": "code",
   "execution_count": 9,
   "metadata": {},
   "outputs": [],
   "source": [
    "# 검증데이터 분리\n",
    "from sklearn.model_selection import train_test_split\n",
    "\n",
    "train_x, valid_x, train_y, valid_y = train_test_split(train_x, train_y, random_state=10)"
   ]
  },
  {
   "cell_type": "code",
   "execution_count": 10,
   "metadata": {},
   "outputs": [
    {
     "data": {
      "text/plain": [
       "((45000, 28, 28), (15000, 28, 28), (45000,), (15000,))"
      ]
     },
     "execution_count": 10,
     "metadata": {},
     "output_type": "execute_result"
    }
   ],
   "source": [
    "train_x.shape, valid_x.shape, train_y.shape, valid_y.shape"
   ]
  },
  {
   "cell_type": "code",
   "execution_count": 11,
   "metadata": {},
   "outputs": [
    {
     "data": {
      "text/plain": [
       "array([8, 7, 9, 8, 0, 5, 8, 6, 2, 1], dtype=uint8)"
      ]
     },
     "execution_count": 11,
     "metadata": {},
     "output_type": "execute_result"
    }
   ],
   "source": [
    "train_y[:10]"
   ]
  },
  {
   "cell_type": "code",
   "execution_count": 12,
   "metadata": {},
   "outputs": [
    {
     "data": {
      "text/plain": [
       "784"
      ]
     },
     "execution_count": 12,
     "metadata": {},
     "output_type": "execute_result"
    }
   ],
   "source": [
    "28*28"
   ]
  },
  {
   "cell_type": "code",
   "execution_count": 13,
   "metadata": {},
   "outputs": [],
   "source": [
    "# 모델에 입력하기 위해 차원 변경\n",
    "# 스케일 조정(MinMax) 색상범위값 255로 나눔\n",
    "train_x = train_x.reshape(train_x.shape[0],28*28)/255\n",
    "valid_x = valid_x.reshape(valid_x.shape[0],28*28)/255\n",
    "test_x = test_x.reshape(test_x.shape[0],28*28)/255"
   ]
  },
  {
   "cell_type": "code",
   "execution_count": 14,
   "metadata": {},
   "outputs": [
    {
     "data": {
      "text/plain": [
       "((45000, 784), (15000, 784), (10000, 784))"
      ]
     },
     "execution_count": 14,
     "metadata": {},
     "output_type": "execute_result"
    }
   ],
   "source": [
    "train_x.shape, valid_x.shape, test_x.shape"
   ]
  },
  {
   "cell_type": "code",
   "execution_count": 15,
   "metadata": {},
   "outputs": [
    {
     "data": {
      "text/plain": [
       "array([8, 7, 9, 8, 0, 5, 8, 6, 2, 1], dtype=uint8)"
      ]
     },
     "execution_count": 15,
     "metadata": {},
     "output_type": "execute_result"
    }
   ],
   "source": [
    "train_y[:10]"
   ]
  },
  {
   "cell_type": "code",
   "execution_count": 16,
   "metadata": {},
   "outputs": [],
   "source": [
    "# label(정답)의 categorical값 -> 원핫인코딩\n",
    "from tensorflow.keras.utils import to_categorical\n",
    "train_y = to_categorical(train_y)\n",
    "valid_y = to_categorical(valid_y)\n",
    "test_y = to_categorical(test_y)"
   ]
  },
  {
   "cell_type": "code",
   "execution_count": 17,
   "metadata": {},
   "outputs": [
    {
     "data": {
      "text/plain": [
       "array([0., 0., 0., 0., 0., 0., 0., 0., 1., 0.], dtype=float32)"
      ]
     },
     "execution_count": 17,
     "metadata": {},
     "output_type": "execute_result"
    }
   ],
   "source": [
    "train_y[0]"
   ]
  },
  {
   "cell_type": "markdown",
   "metadata": {},
   "source": [
    "### 신경망(ANN) 구현"
   ]
  },
  {
   "cell_type": "code",
   "execution_count": 21,
   "metadata": {},
   "outputs": [],
   "source": [
    "# import\n",
    "from tensorflow.keras.models import Sequential # 모델객체생성을 위한 클래스\n",
    "from tensorflow.keras.layers import Dense # 레이어추가를 위한 클래스"
   ]
  },
  {
   "cell_type": "code",
   "execution_count": 26,
   "metadata": {
    "collapsed": true
   },
   "outputs": [
    {
     "name": "stdout",
     "output_type": "stream",
     "text": [
      "Epoch 1/10\n",
      "900/900 [==============================] - 2s 2ms/step - loss: 0.7399 - accuracy: 0.7676 - val_loss: 0.2280 - val_accuracy: 0.9325\n",
      "Epoch 2/10\n",
      "900/900 [==============================] - 1s 2ms/step - loss: 0.1830 - accuracy: 0.9466 - val_loss: 0.1642 - val_accuracy: 0.9515\n",
      "Epoch 3/10\n",
      "900/900 [==============================] - 1s 1ms/step - loss: 0.1230 - accuracy: 0.9622 - val_loss: 0.1392 - val_accuracy: 0.9580\n",
      "Epoch 4/10\n",
      "900/900 [==============================] - 1s 1ms/step - loss: 0.1016 - accuracy: 0.9693 - val_loss: 0.1322 - val_accuracy: 0.9608\n",
      "Epoch 5/10\n",
      "900/900 [==============================] - 1s 1ms/step - loss: 0.0822 - accuracy: 0.9748 - val_loss: 0.1268 - val_accuracy: 0.9625\n",
      "Epoch 6/10\n",
      "900/900 [==============================] - 2s 2ms/step - loss: 0.0697 - accuracy: 0.9781 - val_loss: 0.1178 - val_accuracy: 0.9670\n",
      "Epoch 7/10\n",
      "900/900 [==============================] - 1s 1ms/step - loss: 0.0574 - accuracy: 0.9822 - val_loss: 0.1202 - val_accuracy: 0.9677\n",
      "Epoch 8/10\n",
      "900/900 [==============================] - 1s 2ms/step - loss: 0.0486 - accuracy: 0.9842 - val_loss: 0.1180 - val_accuracy: 0.9668\n",
      "Epoch 9/10\n",
      "900/900 [==============================] - 1s 2ms/step - loss: 0.0448 - accuracy: 0.9864 - val_loss: 0.1199 - val_accuracy: 0.9685\n",
      "Epoch 10/10\n",
      "900/900 [==============================] - 2s 2ms/step - loss: 0.0369 - accuracy: 0.9880 - val_loss: 0.1183 - val_accuracy: 0.9703\n"
     ]
    },
    {
     "data": {
      "text/plain": [
       "<tensorflow.python.keras.callbacks.History at 0x2267dcde490>"
      ]
     },
     "execution_count": 26,
     "metadata": {},
     "output_type": "execute_result"
    }
   ],
   "source": [
    "# 랜덤시드값\n",
    "tf.random.set_seed(14)\n",
    "\n",
    "# 모델 구현\n",
    "model = Sequential() # 객체 생성\n",
    "\n",
    "# 데이터 입력받는 레이어\n",
    "# Dense(출력데이터차원, 활성화함수, 입력데이터차원)\n",
    "model.add(Dense(64, activation='relu', input_shape=(28*28,)))\n",
    "\n",
    "# 레이어 추가\n",
    "model.add(Dense(32, activation='relu'))\n",
    "model.add(Dense(32, activation='relu'))\n",
    "model.add(Dense(32, activation='relu'))\n",
    "\n",
    "# 출력레이어\n",
    "# label 값의 종류만큼 차원 지정\n",
    "# 활성화함수 -> softmax\n",
    "model.add(Dense(10, activation='softmax'))\n",
    "\n",
    "# 모델 설정\n",
    "# compile()\n",
    "# 최적화기법 : adam(learning_rate=0.001)\n",
    "# 손실함수 : categorical_crossentropy\n",
    "# 평가지표 : accuracy\n",
    "model.compile(optimizer='adam', loss='categorical_crossentropy', metrics=['accuracy'])\n",
    "\n",
    "# 학습\n",
    "# epochs : 학습횟수\n",
    "# validation_data : 검증데이터\n",
    "model.fit(train_x, train_y, epochs=10, batch_size=50, validation_data=(valid_x, valid_y))"
   ]
  },
  {
   "cell_type": "code",
   "execution_count": 27,
   "metadata": {},
   "outputs": [
    {
     "name": "stdout",
     "output_type": "stream",
     "text": [
      "313/313 [==============================] - 1s 1ms/step - loss: 0.1129 - accuracy: 0.9703\n"
     ]
    },
    {
     "data": {
      "text/plain": [
       "[0.11291469633579254, 0.970300018787384]"
      ]
     },
     "execution_count": 27,
     "metadata": {},
     "output_type": "execute_result"
    }
   ],
   "source": [
    "# 테스트데이터 평가\n",
    "# 손실값, 정확도\n",
    "model.evaluate(test_x, test_y)"
   ]
  },
  {
   "cell_type": "code",
   "execution_count": 28,
   "metadata": {},
   "outputs": [
    {
     "name": "stdout",
     "output_type": "stream",
     "text": [
      "Epoch 1/10\n",
      "900/900 [==============================] - 2s 2ms/step - loss: 1.8944 - accuracy: 0.3853 - val_loss: 0.6804 - val_accuracy: 0.8628\n",
      "Epoch 2/10\n",
      "900/900 [==============================] - 1s 2ms/step - loss: 0.5534 - accuracy: 0.8858 - val_loss: 0.3447 - val_accuracy: 0.9198\n",
      "Epoch 3/10\n",
      "900/900 [==============================] - 1s 1ms/step - loss: 0.3095 - accuracy: 0.9282 - val_loss: 0.2683 - val_accuracy: 0.9327\n",
      "Epoch 4/10\n",
      "900/900 [==============================] - 1s 1ms/step - loss: 0.2349 - accuracy: 0.9449 - val_loss: 0.2255 - val_accuracy: 0.9415\n",
      "Epoch 5/10\n",
      "900/900 [==============================] - 1s 2ms/step - loss: 0.1978 - accuracy: 0.9518 - val_loss: 0.2044 - val_accuracy: 0.9454\n",
      "Epoch 6/10\n",
      "900/900 [==============================] - 2s 2ms/step - loss: 0.1620 - accuracy: 0.9592 - val_loss: 0.1849 - val_accuracy: 0.9507\n",
      "Epoch 7/10\n",
      "900/900 [==============================] - 1s 1ms/step - loss: 0.1344 - accuracy: 0.9655 - val_loss: 0.1753 - val_accuracy: 0.9526\n",
      "Epoch 8/10\n",
      "900/900 [==============================] - 1s 1ms/step - loss: 0.1157 - accuracy: 0.9703 - val_loss: 0.1683 - val_accuracy: 0.9553\n",
      "Epoch 9/10\n",
      "900/900 [==============================] - 1s 1ms/step - loss: 0.1024 - accuracy: 0.9729 - val_loss: 0.1803 - val_accuracy: 0.9509\n",
      "Epoch 10/10\n",
      "900/900 [==============================] - 1s 2ms/step - loss: 0.0926 - accuracy: 0.9758 - val_loss: 0.1592 - val_accuracy: 0.9563\n",
      "Epoch 1/10\n",
      "900/900 [==============================] - 2s 2ms/step - loss: 0.6718 - accuracy: 0.8257 - val_loss: 0.2004 - val_accuracy: 0.9417\n",
      "Epoch 2/10\n",
      "900/900 [==============================] - 1s 2ms/step - loss: 0.1712 - accuracy: 0.9513 - val_loss: 0.1450 - val_accuracy: 0.9583\n",
      "Epoch 3/10\n",
      "900/900 [==============================] - 2s 2ms/step - loss: 0.1139 - accuracy: 0.9672 - val_loss: 0.1285 - val_accuracy: 0.9639\n",
      "Epoch 4/10\n",
      "900/900 [==============================] - 1s 2ms/step - loss: 0.0864 - accuracy: 0.9744 - val_loss: 0.1225 - val_accuracy: 0.9653\n",
      "Epoch 5/10\n",
      "900/900 [==============================] - 1s 1ms/step - loss: 0.0706 - accuracy: 0.9792 - val_loss: 0.1158 - val_accuracy: 0.9673\n",
      "Epoch 6/10\n",
      "900/900 [==============================] - 1s 2ms/step - loss: 0.0566 - accuracy: 0.9828 - val_loss: 0.1172 - val_accuracy: 0.9674\n",
      "Epoch 7/10\n",
      "900/900 [==============================] - 1s 2ms/step - loss: 0.0460 - accuracy: 0.9858 - val_loss: 0.1163 - val_accuracy: 0.9666\n",
      "Epoch 8/10\n",
      "900/900 [==============================] - 1s 2ms/step - loss: 0.0400 - accuracy: 0.9883 - val_loss: 0.1186 - val_accuracy: 0.9682\n",
      "Epoch 9/10\n",
      "900/900 [==============================] - 1s 1ms/step - loss: 0.0383 - accuracy: 0.9883 - val_loss: 0.1364 - val_accuracy: 0.9641\n",
      "Epoch 10/10\n",
      "900/900 [==============================] - 1s 1ms/step - loss: 0.0289 - accuracy: 0.9905 - val_loss: 0.1235 - val_accuracy: 0.9678\n",
      "Epoch 1/10\n",
      "900/900 [==============================] - 2s 2ms/step - loss: 0.7399 - accuracy: 0.7676 - val_loss: 0.2280 - val_accuracy: 0.9325\n",
      "Epoch 2/10\n",
      "900/900 [==============================] - 1s 2ms/step - loss: 0.1830 - accuracy: 0.9466 - val_loss: 0.1642 - val_accuracy: 0.9515\n",
      "Epoch 3/10\n",
      "900/900 [==============================] - 1s 2ms/step - loss: 0.1230 - accuracy: 0.9622 - val_loss: 0.1392 - val_accuracy: 0.9580\n",
      "Epoch 4/10\n",
      "900/900 [==============================] - 2s 2ms/step - loss: 0.1016 - accuracy: 0.9693 - val_loss: 0.1322 - val_accuracy: 0.9608\n",
      "Epoch 5/10\n",
      "900/900 [==============================] - 1s 2ms/step - loss: 0.0822 - accuracy: 0.9748 - val_loss: 0.1268 - val_accuracy: 0.9625\n",
      "Epoch 6/10\n",
      "900/900 [==============================] - 1s 2ms/step - loss: 0.0697 - accuracy: 0.9781 - val_loss: 0.1178 - val_accuracy: 0.9670\n",
      "Epoch 7/10\n",
      "900/900 [==============================] - 2s 2ms/step - loss: 0.0574 - accuracy: 0.9822 - val_loss: 0.1202 - val_accuracy: 0.9677\n",
      "Epoch 8/10\n",
      "900/900 [==============================] - 2s 2ms/step - loss: 0.0486 - accuracy: 0.9842 - val_loss: 0.1180 - val_accuracy: 0.9668\n",
      "Epoch 9/10\n",
      "900/900 [==============================] - 1s 1ms/step - loss: 0.0448 - accuracy: 0.9864 - val_loss: 0.1199 - val_accuracy: 0.9685\n",
      "Epoch 10/10\n",
      "900/900 [==============================] - 1s 2ms/step - loss: 0.0369 - accuracy: 0.9880 - val_loss: 0.1183 - val_accuracy: 0.9703\n"
     ]
    }
   ],
   "source": [
    " for func in ['sigmoid','tanh','relu']:\n",
    "    # 랜덤시드값\n",
    "    tf.random.set_seed(14)\n",
    "\n",
    "    # 모델 구현\n",
    "    model = Sequential() # 객체 생성\n",
    "\n",
    "    # 데이터 입력받는 레이어\n",
    "    # Dense(출력데이터차원, 활성화함수, 입력데이터차원)\n",
    "    model.add(Dense(64, activation=func, input_shape=(28*28,)))\n",
    "\n",
    "    # 레이어 추가\n",
    "    model.add(Dense(32, activation=func))\n",
    "    model.add(Dense(32, activation=func))\n",
    "    model.add(Dense(32, activation=func))\n",
    "\n",
    "    # 출력레이어\n",
    "    # label 값의 종류만큼 차원 지정\n",
    "    # 활성화함수 -> softmax\n",
    "    model.add(Dense(10, activation='softmax'))\n",
    "\n",
    "    # 모델 설정\n",
    "    # compile()\n",
    "    # 최적화기법 : adam(learning_rate=0.001)\n",
    "    # 손실함수 : categorical_crossentropy\n",
    "    # 평가지표 : accuracy\n",
    "    model.compile(optimizer='adam', loss='categorical_crossentropy', metrics=['accuracy'])\n",
    "\n",
    "    # 학습\n",
    "    # epochs : 학습횟수\n",
    "    # validation_data : 검증데이터\n",
    "    model.fit(train_x, train_y, epochs=10, batch_size=50, validation_data=(valid_x, valid_y))"
   ]
  },
  {
   "cell_type": "markdown",
   "metadata": {},
   "source": [
    "### softmax 함수"
   ]
  },
  {
   "cell_type": "code",
   "execution_count": 29,
   "metadata": {},
   "outputs": [
    {
     "data": {
      "text/plain": [
       "<tf.Tensor: shape=(3,), dtype=float32, numpy=array([0.27800977, 0.30724832, 0.41474187], dtype=float32)>"
      ]
     },
     "execution_count": 29,
     "metadata": {},
     "output_type": "execute_result"
    }
   ],
   "source": [
    "# softmax 함수\n",
    "tf.nn.softmax([0.1,0.2,0.5])"
   ]
  },
  {
   "cell_type": "code",
   "execution_count": 30,
   "metadata": {},
   "outputs": [
    {
     "data": {
      "text/plain": [
       "array([0.27800977, 0.30724832, 0.41474187], dtype=float32)"
      ]
     },
     "execution_count": 30,
     "metadata": {},
     "output_type": "execute_result"
    }
   ],
   "source": [
    "tf.nn.softmax([0.1,0.2,0.5]).numpy()"
   ]
  },
  {
   "cell_type": "code",
   "execution_count": 31,
   "metadata": {},
   "outputs": [
    {
     "data": {
      "text/plain": [
       "1.0"
      ]
     },
     "execution_count": 31,
     "metadata": {},
     "output_type": "execute_result"
    }
   ],
   "source": [
    "tf.nn.softmax([0.1,0.2,0.5]).numpy().sum()"
   ]
  },
  {
   "cell_type": "markdown",
   "metadata": {},
   "source": [
    "### 모델 설정(compile)"
   ]
  },
  {
   "cell_type": "code",
   "execution_count": 34,
   "metadata": {
    "collapsed": true
   },
   "outputs": [
    {
     "name": "stdout",
     "output_type": "stream",
     "text": [
      "Epoch 1/10\n",
      "900/900 [==============================] - 2s 2ms/step - loss: 0.7399 - accuracy: 0.7676 - val_loss: 0.2280 - val_accuracy: 0.9325\n",
      "Epoch 2/10\n",
      "900/900 [==============================] - 1s 1ms/step - loss: 0.1830 - accuracy: 0.9466 - val_loss: 0.1642 - val_accuracy: 0.9515\n",
      "Epoch 3/10\n",
      "900/900 [==============================] - 1s 1ms/step - loss: 0.1230 - accuracy: 0.9622 - val_loss: 0.1392 - val_accuracy: 0.9580\n",
      "Epoch 4/10\n",
      "900/900 [==============================] - 1s 1ms/step - loss: 0.1016 - accuracy: 0.9693 - val_loss: 0.1322 - val_accuracy: 0.9608\n",
      "Epoch 5/10\n",
      "900/900 [==============================] - 1s 2ms/step - loss: 0.0822 - accuracy: 0.9748 - val_loss: 0.1268 - val_accuracy: 0.9625\n",
      "Epoch 6/10\n",
      "900/900 [==============================] - 1s 1ms/step - loss: 0.0697 - accuracy: 0.9781 - val_loss: 0.1178 - val_accuracy: 0.9670\n",
      "Epoch 7/10\n",
      "900/900 [==============================] - 1s 2ms/step - loss: 0.0574 - accuracy: 0.9822 - val_loss: 0.1202 - val_accuracy: 0.9677\n",
      "Epoch 8/10\n",
      "900/900 [==============================] - 1s 2ms/step - loss: 0.0486 - accuracy: 0.9842 - val_loss: 0.1180 - val_accuracy: 0.9668\n",
      "Epoch 9/10\n",
      "900/900 [==============================] - 1s 2ms/step - loss: 0.0448 - accuracy: 0.9864 - val_loss: 0.1199 - val_accuracy: 0.9685\n",
      "Epoch 10/10\n",
      "900/900 [==============================] - 1s 2ms/step - loss: 0.0369 - accuracy: 0.9880 - val_loss: 0.1183 - val_accuracy: 0.9703\n",
      "Epoch 1/10\n",
      "900/900 [==============================] - 2s 2ms/step - loss: 1.7578 - accuracy: 0.4100 - val_loss: 0.4771 - val_accuracy: 0.8643\n",
      "Epoch 2/10\n",
      "900/900 [==============================] - 1s 2ms/step - loss: 0.4339 - accuracy: 0.8750 - val_loss: 0.3525 - val_accuracy: 0.8995\n",
      "Epoch 3/10\n",
      "900/900 [==============================] - 1s 1ms/step - loss: 0.3287 - accuracy: 0.9044 - val_loss: 0.2967 - val_accuracy: 0.9132\n",
      "Epoch 4/10\n",
      "900/900 [==============================] - 1s 1ms/step - loss: 0.2838 - accuracy: 0.9201 - val_loss: 0.2606 - val_accuracy: 0.9238\n",
      "Epoch 5/10\n",
      "900/900 [==============================] - 1s 2ms/step - loss: 0.2495 - accuracy: 0.9277 - val_loss: 0.2448 - val_accuracy: 0.9282\n",
      "Epoch 6/10\n",
      "900/900 [==============================] - 2s 2ms/step - loss: 0.2213 - accuracy: 0.9350 - val_loss: 0.2091 - val_accuracy: 0.9402\n",
      "Epoch 7/10\n",
      "900/900 [==============================] - 1s 2ms/step - loss: 0.1874 - accuracy: 0.9459 - val_loss: 0.1926 - val_accuracy: 0.9443\n",
      "Epoch 8/10\n",
      "900/900 [==============================] - 1s 2ms/step - loss: 0.1711 - accuracy: 0.9492 - val_loss: 0.1829 - val_accuracy: 0.9479\n",
      "Epoch 9/10\n",
      "900/900 [==============================] - 1s 2ms/step - loss: 0.1584 - accuracy: 0.9527 - val_loss: 0.1788 - val_accuracy: 0.9472\n",
      "Epoch 10/10\n",
      "900/900 [==============================] - 1s 2ms/step - loss: 0.1472 - accuracy: 0.9571 - val_loss: 0.1672 - val_accuracy: 0.9490\n",
      "Epoch 1/10\n",
      "900/900 [==============================] - 2s 2ms/step - loss: 0.6870 - accuracy: 0.7885 - val_loss: 0.2108 - val_accuracy: 0.9367\n",
      "Epoch 2/10\n",
      "900/900 [==============================] - 1s 2ms/step - loss: 0.1893 - accuracy: 0.9433 - val_loss: 0.1596 - val_accuracy: 0.9530\n",
      "Epoch 3/10\n",
      "900/900 [==============================] - 2s 2ms/step - loss: 0.1282 - accuracy: 0.9620 - val_loss: 0.1425 - val_accuracy: 0.9591\n",
      "Epoch 4/10\n",
      "900/900 [==============================] - 1s 2ms/step - loss: 0.1056 - accuracy: 0.9690 - val_loss: 0.1336 - val_accuracy: 0.9615\n",
      "Epoch 5/10\n",
      "900/900 [==============================] - 2s 2ms/step - loss: 0.0874 - accuracy: 0.9730 - val_loss: 0.1320 - val_accuracy: 0.9632\n",
      "Epoch 6/10\n",
      "900/900 [==============================] - 2s 2ms/step - loss: 0.0740 - accuracy: 0.9763 - val_loss: 0.1333 - val_accuracy: 0.9659\n",
      "Epoch 7/10\n",
      "900/900 [==============================] - 1s 2ms/step - loss: 0.0618 - accuracy: 0.9814 - val_loss: 0.1310 - val_accuracy: 0.9667\n",
      "Epoch 8/10\n",
      "900/900 [==============================] - 1s 2ms/step - loss: 0.0591 - accuracy: 0.9833 - val_loss: 0.1356 - val_accuracy: 0.9665\n",
      "Epoch 9/10\n",
      "900/900 [==============================] - 1s 2ms/step - loss: 0.0508 - accuracy: 0.9848 - val_loss: 0.1407 - val_accuracy: 0.9654\n",
      "Epoch 10/10\n",
      "900/900 [==============================] - 2s 2ms/step - loss: 0.0460 - accuracy: 0.9866 - val_loss: 0.1419 - val_accuracy: 0.9674\n"
     ]
    }
   ],
   "source": [
    "# import (optimizer 클래스)\n",
    "from tensorflow.keras.optimizers import Adam, SGD, RMSprop\n",
    "\n",
    "for opt in [Adam(), SGD(), RMSprop()]:\n",
    "    # 랜덤시드값\n",
    "    tf.random.set_seed(14)\n",
    "\n",
    "    # 모델 구현\n",
    "    model = Sequential() # 객체 생성\n",
    "\n",
    "    # 데이터 입력받는 레이어\n",
    "    # Dense(출력데이터차원, 활성화함수, 입력데이터차원)\n",
    "    model.add(Dense(64, activation='relu', input_shape=(28*28,)))\n",
    "\n",
    "    # 레이어 추가\n",
    "    model.add(Dense(32, activation='relu'))\n",
    "    model.add(Dense(32, activation='relu'))\n",
    "    model.add(Dense(32, activation='relu'))\n",
    "\n",
    "    # 출력레이어\n",
    "    # label 값의 종류만큼 차원 지정\n",
    "    # 활성화함수 -> softmax\n",
    "    model.add(Dense(10, activation='softmax'))\n",
    "\n",
    "    # 모델 설정\n",
    "    # compile()\n",
    "    # 최적화기법 : adam(learning_rate=0.001)\n",
    "    # 손실함수 : categorical_crossentropy\n",
    "    # 평가지표 : accuracy\n",
    "    model.compile(optimizer=opt, loss='categorical_crossentropy', metrics=['accuracy'])\n",
    "\n",
    "    # 학습\n",
    "    # epochs : 학습횟수\n",
    "    # validation_data : 검증데이터\n",
    "    model.fit(train_x, train_y, epochs=10, batch_size=50, validation_data=(valid_x, valid_y))"
   ]
  },
  {
   "cell_type": "markdown",
   "metadata": {},
   "source": [
    "### 성능평가"
   ]
  },
  {
   "cell_type": "code",
   "execution_count": 35,
   "metadata": {},
   "outputs": [
    {
     "name": "stdout",
     "output_type": "stream",
     "text": [
      "Epoch 1/50\n",
      "900/900 [==============================] - 2s 2ms/step - loss: 0.7399 - accuracy: 0.7676 - val_loss: 0.2280 - val_accuracy: 0.9325\n",
      "Epoch 2/50\n",
      "900/900 [==============================] - 1s 2ms/step - loss: 0.1830 - accuracy: 0.9466 - val_loss: 0.1642 - val_accuracy: 0.9515\n",
      "Epoch 3/50\n",
      "900/900 [==============================] - 1s 1ms/step - loss: 0.1230 - accuracy: 0.9622 - val_loss: 0.1392 - val_accuracy: 0.9580\n",
      "Epoch 4/50\n",
      "900/900 [==============================] - 1s 1ms/step - loss: 0.1016 - accuracy: 0.9693 - val_loss: 0.1322 - val_accuracy: 0.9608\n",
      "Epoch 5/50\n",
      "900/900 [==============================] - 1s 1ms/step - loss: 0.0822 - accuracy: 0.9748 - val_loss: 0.1268 - val_accuracy: 0.9625\n",
      "Epoch 6/50\n",
      "900/900 [==============================] - 1s 2ms/step - loss: 0.0697 - accuracy: 0.9781 - val_loss: 0.1178 - val_accuracy: 0.9670\n",
      "Epoch 7/50\n",
      "900/900 [==============================] - 1s 2ms/step - loss: 0.0574 - accuracy: 0.9822 - val_loss: 0.1202 - val_accuracy: 0.9677\n",
      "Epoch 8/50\n",
      "900/900 [==============================] - 1s 2ms/step - loss: 0.0486 - accuracy: 0.9842 - val_loss: 0.1180 - val_accuracy: 0.9668\n",
      "Epoch 9/50\n",
      "900/900 [==============================] - 1s 2ms/step - loss: 0.0448 - accuracy: 0.9864 - val_loss: 0.1199 - val_accuracy: 0.9685\n",
      "Epoch 10/50\n",
      "900/900 [==============================] - 1s 2ms/step - loss: 0.0369 - accuracy: 0.9880 - val_loss: 0.1183 - val_accuracy: 0.9703\n",
      "Epoch 11/50\n",
      "900/900 [==============================] - 1s 1ms/step - loss: 0.0328 - accuracy: 0.9899 - val_loss: 0.1436 - val_accuracy: 0.9641\n",
      "Epoch 12/50\n",
      "900/900 [==============================] - 1s 2ms/step - loss: 0.0311 - accuracy: 0.9901 - val_loss: 0.1233 - val_accuracy: 0.9688\n",
      "Epoch 13/50\n",
      "900/900 [==============================] - 1s 1ms/step - loss: 0.0256 - accuracy: 0.9918 - val_loss: 0.1284 - val_accuracy: 0.9694\n",
      "Epoch 14/50\n",
      "900/900 [==============================] - 1s 2ms/step - loss: 0.0250 - accuracy: 0.9916 - val_loss: 0.1412 - val_accuracy: 0.9686\n",
      "Epoch 15/50\n",
      "900/900 [==============================] - 1s 1ms/step - loss: 0.0270 - accuracy: 0.9913 - val_loss: 0.1332 - val_accuracy: 0.9689\n",
      "Epoch 16/50\n",
      "900/900 [==============================] - 1s 1ms/step - loss: 0.0207 - accuracy: 0.9928 - val_loss: 0.1495 - val_accuracy: 0.9678\n",
      "Epoch 17/50\n",
      "900/900 [==============================] - 1s 2ms/step - loss: 0.0208 - accuracy: 0.9931 - val_loss: 0.1605 - val_accuracy: 0.9677\n",
      "Epoch 18/50\n",
      "900/900 [==============================] - 1s 2ms/step - loss: 0.0196 - accuracy: 0.9937 - val_loss: 0.1540 - val_accuracy: 0.9651\n",
      "Epoch 19/50\n",
      "900/900 [==============================] - 2s 2ms/step - loss: 0.0260 - accuracy: 0.9906 - val_loss: 0.1679 - val_accuracy: 0.9654\n",
      "Epoch 20/50\n",
      "900/900 [==============================] - 1s 2ms/step - loss: 0.0191 - accuracy: 0.9937 - val_loss: 0.1600 - val_accuracy: 0.9683\n",
      "Epoch 21/50\n",
      "900/900 [==============================] - 1s 2ms/step - loss: 0.0180 - accuracy: 0.9942 - val_loss: 0.1488 - val_accuracy: 0.9705\n",
      "Epoch 22/50\n",
      "900/900 [==============================] - 2s 2ms/step - loss: 0.0190 - accuracy: 0.9940 - val_loss: 0.1785 - val_accuracy: 0.9653\n",
      "Epoch 23/50\n",
      "900/900 [==============================] - 1s 1ms/step - loss: 0.0163 - accuracy: 0.9943 - val_loss: 0.1890 - val_accuracy: 0.9639\n",
      "Epoch 24/50\n",
      "900/900 [==============================] - 1s 1ms/step - loss: 0.0138 - accuracy: 0.9952 - val_loss: 0.1525 - val_accuracy: 0.9707\n",
      "Epoch 25/50\n",
      "900/900 [==============================] - 1s 2ms/step - loss: 0.0127 - accuracy: 0.9960 - val_loss: 0.1653 - val_accuracy: 0.9671\n",
      "Epoch 26/50\n",
      "900/900 [==============================] - 1s 2ms/step - loss: 0.0150 - accuracy: 0.9949 - val_loss: 0.1834 - val_accuracy: 0.9664\n",
      "Epoch 27/50\n",
      "900/900 [==============================] - 1s 1ms/step - loss: 0.0135 - accuracy: 0.9959 - val_loss: 0.1659 - val_accuracy: 0.9707\n",
      "Epoch 28/50\n",
      "900/900 [==============================] - 1s 2ms/step - loss: 0.0140 - accuracy: 0.9952 - val_loss: 0.1893 - val_accuracy: 0.9657\n",
      "Epoch 29/50\n",
      "900/900 [==============================] - 1s 1ms/step - loss: 0.0110 - accuracy: 0.9962 - val_loss: 0.1967 - val_accuracy: 0.9667\n",
      "Epoch 30/50\n",
      "900/900 [==============================] - 1s 2ms/step - loss: 0.0207 - accuracy: 0.9934 - val_loss: 0.1830 - val_accuracy: 0.9680\n",
      "Epoch 31/50\n",
      "900/900 [==============================] - 1s 1ms/step - loss: 0.0114 - accuracy: 0.9966 - val_loss: 0.1709 - val_accuracy: 0.9707\n",
      "Epoch 32/50\n",
      "900/900 [==============================] - 1s 1ms/step - loss: 0.0182 - accuracy: 0.9940 - val_loss: 0.1843 - val_accuracy: 0.9703\n",
      "Epoch 33/50\n",
      "900/900 [==============================] - 1s 2ms/step - loss: 0.0136 - accuracy: 0.9955 - val_loss: 0.1970 - val_accuracy: 0.9679\n",
      "Epoch 34/50\n",
      "900/900 [==============================] - 2s 2ms/step - loss: 0.0132 - accuracy: 0.9961 - val_loss: 0.1751 - val_accuracy: 0.9696\n",
      "Epoch 35/50\n",
      "900/900 [==============================] - 1s 2ms/step - loss: 0.0105 - accuracy: 0.9969 - val_loss: 0.1834 - val_accuracy: 0.9692\n",
      "Epoch 36/50\n",
      "900/900 [==============================] - 2s 2ms/step - loss: 0.0120 - accuracy: 0.9965 - val_loss: 0.1773 - val_accuracy: 0.9695\n",
      "Epoch 37/50\n",
      "900/900 [==============================] - 2s 2ms/step - loss: 0.0079 - accuracy: 0.9978 - val_loss: 0.2132 - val_accuracy: 0.9649\n",
      "Epoch 38/50\n",
      "900/900 [==============================] - 2s 2ms/step - loss: 0.0098 - accuracy: 0.9969 - val_loss: 0.1973 - val_accuracy: 0.9674\n",
      "Epoch 39/50\n",
      "900/900 [==============================] - 2s 2ms/step - loss: 0.0123 - accuracy: 0.9958 - val_loss: 0.1965 - val_accuracy: 0.9675\n",
      "Epoch 40/50\n",
      "900/900 [==============================] - 2s 2ms/step - loss: 0.0109 - accuracy: 0.9961 - val_loss: 0.1848 - val_accuracy: 0.9705\n",
      "Epoch 41/50\n",
      "900/900 [==============================] - 2s 2ms/step - loss: 0.0087 - accuracy: 0.9971 - val_loss: 0.1966 - val_accuracy: 0.9689\n",
      "Epoch 42/50\n",
      "900/900 [==============================] - 1s 1ms/step - loss: 0.0081 - accuracy: 0.9974 - val_loss: 0.1967 - val_accuracy: 0.9691\n",
      "Epoch 43/50\n",
      "900/900 [==============================] - 1s 2ms/step - loss: 0.0112 - accuracy: 0.9963 - val_loss: 0.1887 - val_accuracy: 0.9704\n",
      "Epoch 44/50\n",
      "900/900 [==============================] - 2s 2ms/step - loss: 0.0091 - accuracy: 0.9970 - val_loss: 0.1951 - val_accuracy: 0.9687\n",
      "Epoch 45/50\n",
      "900/900 [==============================] - 1s 2ms/step - loss: 0.0125 - accuracy: 0.9964 - val_loss: 0.1918 - val_accuracy: 0.9691\n",
      "Epoch 46/50\n",
      "900/900 [==============================] - 1s 2ms/step - loss: 0.0062 - accuracy: 0.9982 - val_loss: 0.1961 - val_accuracy: 0.9702\n",
      "Epoch 47/50\n",
      "900/900 [==============================] - 1s 2ms/step - loss: 0.0097 - accuracy: 0.9965 - val_loss: 0.2602 - val_accuracy: 0.9647\n",
      "Epoch 48/50\n",
      "900/900 [==============================] - 2s 2ms/step - loss: 0.0062 - accuracy: 0.9983 - val_loss: 0.2012 - val_accuracy: 0.9704\n",
      "Epoch 49/50\n",
      "900/900 [==============================] - 1s 1ms/step - loss: 0.0145 - accuracy: 0.9951 - val_loss: 0.2034 - val_accuracy: 0.9711\n",
      "Epoch 50/50\n",
      "900/900 [==============================] - 1s 2ms/step - loss: 0.0036 - accuracy: 0.9986 - val_loss: 0.1910 - val_accuracy: 0.9725\n"
     ]
    }
   ],
   "source": [
    "# 랜덤시드값\n",
    "tf.random.set_seed(14)\n",
    "\n",
    "# 모델 구현\n",
    "model = Sequential() # 객체 생성\n",
    "\n",
    "# 데이터 입력받는 레이어\n",
    "# Dense(출력데이터차원, 활성화함수, 입력데이터차원)\n",
    "model.add(Dense(64, activation='relu', input_shape=(28*28,)))\n",
    "\n",
    "# 레이어 추가\n",
    "model.add(Dense(32, activation='relu'))\n",
    "model.add(Dense(32, activation='relu'))\n",
    "model.add(Dense(32, activation='relu'))\n",
    "\n",
    "# 출력레이어\n",
    "# label 값의 종류만큼 차원 지정\n",
    "# 활성화함수 -> softmax\n",
    "model.add(Dense(10, activation='softmax'))\n",
    "\n",
    "# 모델 설정\n",
    "# compile()\n",
    "# 최적화기법 : adam(learning_rate=0.001)\n",
    "# 손실함수 : categorical_crossentropy\n",
    "# 평가지표 : accuracy\n",
    "model.compile(optimizer='adam', loss='categorical_crossentropy', metrics=['accuracy'])\n",
    "\n",
    "# 학습\n",
    "# epochs : 학습횟수\n",
    "# validation_data : 검증데이터\n",
    "history = model.fit(train_x, train_y, epochs=50, batch_size=50, validation_data=(valid_x, valid_y))"
   ]
  },
  {
   "cell_type": "code",
   "execution_count": 36,
   "metadata": {},
   "outputs": [
    {
     "data": {
      "text/plain": [
       "{'loss': [0.41582000255584717,\n",
       "  0.17429296672344208,\n",
       "  0.1267540156841278,\n",
       "  0.10148102045059204,\n",
       "  0.08169137686491013,\n",
       "  0.07185032218694687,\n",
       "  0.06380624324083328,\n",
       "  0.05304820463061333,\n",
       "  0.047454867511987686,\n",
       "  0.043313197791576385,\n",
       "  0.03721670061349869,\n",
       "  0.03560103476047516,\n",
       "  0.03013461083173752,\n",
       "  0.030423160642385483,\n",
       "  0.027961699292063713,\n",
       "  0.02528953365981579,\n",
       "  0.022057054564356804,\n",
       "  0.02067926898598671,\n",
       "  0.02414652705192566,\n",
       "  0.01914256438612938,\n",
       "  0.02047981135547161,\n",
       "  0.019645368680357933,\n",
       "  0.01743701659142971,\n",
       "  0.013939818367362022,\n",
       "  0.018737370148301125,\n",
       "  0.015359858982264996,\n",
       "  0.0156693197786808,\n",
       "  0.014269832521677017,\n",
       "  0.011800209991633892,\n",
       "  0.016002675518393517,\n",
       "  0.013820881024003029,\n",
       "  0.014576786197721958,\n",
       "  0.013115410692989826,\n",
       "  0.014434992335736752,\n",
       "  0.012598257511854172,\n",
       "  0.011649582535028458,\n",
       "  0.009397419169545174,\n",
       "  0.011532207950949669,\n",
       "  0.013303004205226898,\n",
       "  0.01097437646239996,\n",
       "  0.00986180454492569,\n",
       "  0.011296268552541733,\n",
       "  0.011795549653470516,\n",
       "  0.009616629220545292,\n",
       "  0.009598685428500175,\n",
       "  0.010933050885796547,\n",
       "  0.009980875998735428,\n",
       "  0.004746719263494015,\n",
       "  0.015272621996700764,\n",
       "  0.003456096164882183],\n",
       " 'accuracy': [0.8756444454193115,\n",
       "  0.9481333494186401,\n",
       "  0.9618666768074036,\n",
       "  0.9696221947669983,\n",
       "  0.9746888875961304,\n",
       "  0.9778222441673279,\n",
       "  0.9801111221313477,\n",
       "  0.9831777811050415,\n",
       "  0.984844446182251,\n",
       "  0.9863777756690979,\n",
       "  0.9881333112716675,\n",
       "  0.9885555505752563,\n",
       "  0.9903333187103271,\n",
       "  0.9894888997077942,\n",
       "  0.9910888671875,\n",
       "  0.9912889003753662,\n",
       "  0.9924222230911255,\n",
       "  0.9928666949272156,\n",
       "  0.9914888739585876,\n",
       "  0.9935333132743835,\n",
       "  0.9935555458068848,\n",
       "  0.9935555458068848,\n",
       "  0.9937777519226074,\n",
       "  0.9954444169998169,\n",
       "  0.9939777851104736,\n",
       "  0.994688868522644,\n",
       "  0.9951111078262329,\n",
       "  0.995377779006958,\n",
       "  0.9961333274841309,\n",
       "  0.9944666624069214,\n",
       "  0.9958444237709045,\n",
       "  0.9951111078262329,\n",
       "  0.9956666827201843,\n",
       "  0.9956222176551819,\n",
       "  0.996222198009491,\n",
       "  0.9962666630744934,\n",
       "  0.9974889159202576,\n",
       "  0.9964222311973572,\n",
       "  0.9955111145973206,\n",
       "  0.9962888956069946,\n",
       "  0.9966889023780823,\n",
       "  0.9961110949516296,\n",
       "  0.9964666962623596,\n",
       "  0.9970444440841675,\n",
       "  0.9969555735588074,\n",
       "  0.9966444373130798,\n",
       "  0.9965333342552185,\n",
       "  0.9986222386360168,\n",
       "  0.9950000047683716,\n",
       "  0.9986888766288757],\n",
       " 'val_loss': [0.22800718247890472,\n",
       "  0.16417132318019867,\n",
       "  0.13923929631710052,\n",
       "  0.13218951225280762,\n",
       "  0.1267773061990738,\n",
       "  0.11778575927019119,\n",
       "  0.12018332630395889,\n",
       "  0.1180102527141571,\n",
       "  0.11992619186639786,\n",
       "  0.11826371401548386,\n",
       "  0.14358997344970703,\n",
       "  0.12325318902730942,\n",
       "  0.12836410105228424,\n",
       "  0.14116650819778442,\n",
       "  0.13320282101631165,\n",
       "  0.14945341646671295,\n",
       "  0.160486102104187,\n",
       "  0.15402251482009888,\n",
       "  0.1679360717535019,\n",
       "  0.15999293327331543,\n",
       "  0.1487661749124527,\n",
       "  0.17850905656814575,\n",
       "  0.18899387121200562,\n",
       "  0.15251342952251434,\n",
       "  0.16534532606601715,\n",
       "  0.1834390014410019,\n",
       "  0.16590000689029694,\n",
       "  0.1892908215522766,\n",
       "  0.19670288264751434,\n",
       "  0.1829656958580017,\n",
       "  0.17094109952449799,\n",
       "  0.1842964142560959,\n",
       "  0.19702504575252533,\n",
       "  0.1751132756471634,\n",
       "  0.1834200620651245,\n",
       "  0.17726321518421173,\n",
       "  0.21321657299995422,\n",
       "  0.19734853506088257,\n",
       "  0.19649438560009003,\n",
       "  0.18479779362678528,\n",
       "  0.19661341607570648,\n",
       "  0.1966962218284607,\n",
       "  0.18870919942855835,\n",
       "  0.19513733685016632,\n",
       "  0.19183948636054993,\n",
       "  0.19614136219024658,\n",
       "  0.2601594924926758,\n",
       "  0.20123302936553955,\n",
       "  0.20335297286510468,\n",
       "  0.19097845256328583],\n",
       " 'val_accuracy': [0.9324666857719421,\n",
       "  0.951533317565918,\n",
       "  0.9580000042915344,\n",
       "  0.9607999920845032,\n",
       "  0.9624666571617126,\n",
       "  0.9670000076293945,\n",
       "  0.9676666855812073,\n",
       "  0.9667999744415283,\n",
       "  0.9685333371162415,\n",
       "  0.9702666401863098,\n",
       "  0.9641333222389221,\n",
       "  0.9688000082969666,\n",
       "  0.9693999886512756,\n",
       "  0.9685999751091003,\n",
       "  0.9688666462898254,\n",
       "  0.9678000211715698,\n",
       "  0.9676666855812073,\n",
       "  0.96506667137146,\n",
       "  0.965399980545044,\n",
       "  0.9682666659355164,\n",
       "  0.9705333113670349,\n",
       "  0.9652666449546814,\n",
       "  0.9639333486557007,\n",
       "  0.9706666469573975,\n",
       "  0.9671333432197571,\n",
       "  0.9664000272750854,\n",
       "  0.9706666469573975,\n",
       "  0.9657333493232727,\n",
       "  0.9666666388511658,\n",
       "  0.9679999947547913,\n",
       "  0.9706666469573975,\n",
       "  0.9703333377838135,\n",
       "  0.9679333567619324,\n",
       "  0.9696000218391418,\n",
       "  0.9692000150680542,\n",
       "  0.9695333242416382,\n",
       "  0.9649333357810974,\n",
       "  0.9674000144004822,\n",
       "  0.9675333499908447,\n",
       "  0.970466673374176,\n",
       "  0.9688666462898254,\n",
       "  0.9690666794776917,\n",
       "  0.9703999757766724,\n",
       "  0.9687333106994629,\n",
       "  0.9690666794776917,\n",
       "  0.9702000021934509,\n",
       "  0.964733362197876,\n",
       "  0.9703999757766724,\n",
       "  0.9710666537284851,\n",
       "  0.9724666476249695]}"
      ]
     },
     "execution_count": 36,
     "metadata": {},
     "output_type": "execute_result"
    }
   ],
   "source": [
    "history.history"
   ]
  },
  {
   "cell_type": "code",
   "execution_count": 38,
   "metadata": {},
   "outputs": [
    {
     "data": {
      "image/png": "[encoded data removed]",
      "text/plain": [
       "<Figure size 432x288 with 1 Axes>"
      ]
     },
     "metadata": {
      "needs_background": "light"
     },
     "output_type": "display_data"
    }
   ],
   "source": [
    "# 학습데이터 로스\n",
    "plt.plot(history.history['loss'], c='r')\n",
    "# 검증데이터 로스\n",
    "plt.plot(history.history['val_loss'], c='g')\n",
    "plt.show()"
   ]
  },
  {
   "cell_type": "code",
   "execution_count": 39,
   "metadata": {},
   "outputs": [
    {
     "name": "stdout",
     "output_type": "stream",
     "text": [
      "313/313 [==============================] - 1s 1ms/step - loss: 0.1965 - accuracy: 0.9733\n"
     ]
    },
    {
     "data": {
      "text/plain": [
       "[0.1964758038520813, 0.9732999801635742]"
      ]
     },
     "execution_count": 39,
     "metadata": {},
     "output_type": "execute_result"
    }
   ],
   "source": [
    "# 50회 학습한 모델(정확도 99%)로 테스트데이터 예측\n",
    "model.evaluate(test_x, test_y)"
   ]
  },
  {
   "cell_type": "markdown",
   "metadata": {},
   "source": [
    "### 혼동행렬"
   ]
  },
  {
   "cell_type": "code",
   "execution_count": 41,
   "metadata": {},
   "outputs": [
    {
     "data": {
      "text/plain": [
       "array([[ 968,    0,    0,    0,    2,    1,    4,    3,    2,    0],\n",
       "       [   0, 1122,    2,    2,    0,    0,    2,    1,    6,    0],\n",
       "       [   1,    2, 1013,    6,    1,    0,    1,    5,    3,    0],\n",
       "       [   0,    0,    0,  990,    0,    8,    0,    6,    5,    1],\n",
       "       [   3,    0,    2,    0,  955,    0,    9,    1,    0,   12],\n",
       "       [   3,    1,    0,   13,    3,  855,   10,    0,    6,    1],\n",
       "       [   3,    2,    1,    1,    3,    4,  938,    1,    5,    0],\n",
       "       [   1,    2,    9,    7,    2,    0,    0,  997,    7,    3],\n",
       "       [  10,    2,    5,    5,    4,    6,    4,    5,  929,    4],\n",
       "       [   2,    3,    0,    7,   12,    3,    0,    8,    8,  966]],\n",
       "      dtype=int64)"
      ]
     },
     "execution_count": 41,
     "metadata": {},
     "output_type": "execute_result"
    }
   ],
   "source": [
    "from sklearn.metrics import confusion_matrix\n",
    "import numpy as np\n",
    "\n",
    "pred = model.predict(test_x)\n",
    "# 실제:[1,0,1], 예측:[1,0,0]\n",
    "confusion_matrix(np.argmax(test_y, axis=1), np.argmax(pred, axis=1))"
   ]
  },
  {
   "cell_type": "markdown",
   "metadata": {},
   "source": [
    "### 분류보고서"
   ]
  },
  {
   "cell_type": "code",
   "execution_count": 43,
   "metadata": {
    "collapsed": true
   },
   "outputs": [
    {
     "name": "stdout",
     "output_type": "stream",
     "text": [
      "              precision    recall  f1-score   support\n",
      "\n",
      "           0       0.98      0.99      0.98       980\n",
      "           1       0.99      0.99      0.99      1135\n",
      "           2       0.98      0.98      0.98      1032\n",
      "           3       0.96      0.98      0.97      1010\n",
      "           4       0.97      0.97      0.97       982\n",
      "           5       0.97      0.96      0.97       892\n",
      "           6       0.97      0.98      0.97       958\n",
      "           7       0.97      0.97      0.97      1028\n",
      "           8       0.96      0.95      0.96       974\n",
      "           9       0.98      0.96      0.97      1009\n",
      "\n",
      "    accuracy                           0.97     10000\n",
      "   macro avg       0.97      0.97      0.97     10000\n",
      "weighted avg       0.97      0.97      0.97     10000\n",
      "\n"
     ]
    }
   ],
   "source": [
    "from sklearn.metrics import classification_report\n",
    "print(classification_report(np.argmax(test_y, axis=1), np.argmax(pred, axis=1)))"
   ]
  },
  {
   "cell_type": "code",
   "execution_count": 48,
   "metadata": {},
   "outputs": [
    {
     "data": {
      "text/plain": [
       "array([[0.        , 0.        , 0.        , 0.        , 0.        ,\n",
       "        0.        , 0.        , 0.        , 0.        , 0.        ,\n",
       "        0.        , 0.        , 0.        , 0.        , 0.        ,\n",
       "        0.        , 0.        , 0.        , 0.        , 0.        ,\n",
       "        0.        , 0.        , 0.        , 0.        , 0.        ,\n",
       "        0.        , 0.        , 0.        , 0.        , 0.        ,\n",
       "        0.        , 0.        , 0.        , 0.        , 0.        ,\n",
       "        0.        , 0.        , 0.        , 0.        , 0.        ,\n",
       "        0.        , 0.        , 0.        , 0.        , 0.        ,\n",
       "        0.        , 0.        , 0.        , 0.        , 0.        ,\n",
       "        0.        , 0.        , 0.        , 0.        , 0.        ,\n",
       "        0.        , 0.        , 0.        , 0.        , 0.        ,\n",
       "        0.        , 0.        , 0.        , 0.        , 0.        ,\n",
       "        0.        , 0.        , 0.        , 0.        , 0.        ,\n",
       "        0.        , 0.        , 0.        , 0.        , 0.        ,\n",
       "        0.        , 0.        , 0.        , 0.        , 0.        ,\n",
       "        0.        , 0.        , 0.        , 0.        , 0.        ,\n",
       "        0.        , 0.        , 0.        , 0.        , 0.        ,\n",
       "        0.        , 0.        , 0.        , 0.        , 0.        ,\n",
       "        0.        , 0.        , 0.        , 0.        , 0.        ,\n",
       "        0.        , 0.        , 0.        , 0.        , 0.        ,\n",
       "        0.        , 0.        , 0.        , 0.        , 0.        ,\n",
       "        0.        , 0.        , 0.        , 0.        , 0.        ,\n",
       "        0.        , 0.        , 0.        , 0.        , 0.        ,\n",
       "        0.        , 0.        , 0.        , 0.        , 0.        ,\n",
       "        0.        , 0.        , 0.        , 0.        , 0.        ,\n",
       "        0.        , 0.        , 0.        , 0.        , 0.        ,\n",
       "        0.        , 0.        , 0.        , 0.        , 0.        ,\n",
       "        0.        , 0.        , 0.        , 0.        , 0.        ,\n",
       "        0.        , 0.        , 0.        , 0.        , 0.        ,\n",
       "        0.        , 0.        , 0.        , 0.        , 0.        ,\n",
       "        0.        , 0.        , 0.        , 0.        , 0.        ,\n",
       "        0.        , 0.        , 0.        , 0.        , 0.        ,\n",
       "        0.        , 0.        , 0.        , 0.        , 0.        ,\n",
       "        0.        , 0.        , 0.        , 0.        , 0.        ,\n",
       "        0.        , 0.        , 0.        , 0.        , 0.        ,\n",
       "        0.        , 0.        , 0.        , 0.        , 0.        ,\n",
       "        0.        , 0.        , 0.        , 0.        , 0.        ,\n",
       "        0.        , 0.        , 0.        , 0.        , 0.        ,\n",
       "        0.        , 0.        , 0.        , 0.        , 0.        ,\n",
       "        0.        , 0.        , 0.32941176, 0.7254902 , 0.62352941,\n",
       "        0.59215686, 0.23529412, 0.14117647, 0.        , 0.        ,\n",
       "        0.        , 0.        , 0.        , 0.        , 0.        ,\n",
       "        0.        , 0.        , 0.        , 0.        , 0.        ,\n",
       "        0.        , 0.        , 0.        , 0.        , 0.        ,\n",
       "        0.        , 0.        , 0.        , 0.        , 0.        ,\n",
       "        0.87058824, 0.99607843, 0.99607843, 0.99607843, 0.99607843,\n",
       "        0.94509804, 0.77647059, 0.77647059, 0.77647059, 0.77647059,\n",
       "        0.77647059, 0.77647059, 0.77647059, 0.77647059, 0.66666667,\n",
       "        0.20392157, 0.        , 0.        , 0.        , 0.        ,\n",
       "        0.        , 0.        , 0.        , 0.        , 0.        ,\n",
       "        0.        , 0.        , 0.        , 0.2627451 , 0.44705882,\n",
       "        0.28235294, 0.44705882, 0.63921569, 0.89019608, 0.99607843,\n",
       "        0.88235294, 0.99607843, 0.99607843, 0.99607843, 0.98039216,\n",
       "        0.89803922, 0.99607843, 0.99607843, 0.54901961, 0.        ,\n",
       "        0.        , 0.        , 0.        , 0.        , 0.        ,\n",
       "        0.        , 0.        , 0.        , 0.        , 0.        ,\n",
       "        0.        , 0.        , 0.        , 0.        , 0.        ,\n",
       "        0.        , 0.06666667, 0.25882353, 0.05490196, 0.2627451 ,\n",
       "        0.2627451 , 0.2627451 , 0.23137255, 0.08235294, 0.9254902 ,\n",
       "        0.99607843, 0.41568627, 0.        , 0.        , 0.        ,\n",
       "        0.        , 0.        , 0.        , 0.        , 0.        ,\n",
       "        0.        , 0.        , 0.        , 0.        , 0.        ,\n",
       "        0.        , 0.        , 0.        , 0.        , 0.        ,\n",
       "        0.        , 0.        , 0.        , 0.        , 0.        ,\n",
       "        0.        , 0.3254902 , 0.99215686, 0.81960784, 0.07058824,\n",
       "        0.        , 0.        , 0.        , 0.        , 0.        ,\n",
       "        0.        , 0.        , 0.        , 0.        , 0.        ,\n",
       "        0.        , 0.        , 0.        , 0.        , 0.        ,\n",
       "        0.        , 0.        , 0.        , 0.        , 0.        ,\n",
       "        0.        , 0.        , 0.        , 0.08627451, 0.91372549,\n",
       "        1.        , 0.3254902 , 0.        , 0.        , 0.        ,\n",
       "        0.        , 0.        , 0.        , 0.        , 0.        ,\n",
       "        0.        , 0.        , 0.        , 0.        , 0.        ,\n",
       "        0.        , 0.        , 0.        , 0.        , 0.        ,\n",
       "        0.        , 0.        , 0.        , 0.        , 0.        ,\n",
       "        0.        , 0.50588235, 0.99607843, 0.93333333, 0.17254902,\n",
       "        0.        , 0.        , 0.        , 0.        , 0.        ,\n",
       "        0.        , 0.        , 0.        , 0.        , 0.        ,\n",
       "        0.        , 0.        , 0.        , 0.        , 0.        ,\n",
       "        0.        , 0.        , 0.        , 0.        , 0.        ,\n",
       "        0.        , 0.        , 0.        , 0.23137255, 0.97647059,\n",
       "        0.99607843, 0.24313725, 0.        , 0.        , 0.        ,\n",
       "        0.        , 0.        , 0.        , 0.        , 0.        ,\n",
       "        0.        , 0.        , 0.        , 0.        , 0.        ,\n",
       "        0.        , 0.        , 0.        , 0.        , 0.        ,\n",
       "        0.        , 0.        , 0.        , 0.        , 0.        ,\n",
       "        0.        , 0.52156863, 0.99607843, 0.73333333, 0.01960784,\n",
       "        0.        , 0.        , 0.        , 0.        , 0.        ,\n",
       "        0.        , 0.        , 0.        , 0.        , 0.        ,\n",
       "        0.        , 0.        , 0.        , 0.        , 0.        ,\n",
       "        0.        , 0.        , 0.        , 0.        , 0.        ,\n",
       "        0.        , 0.        , 0.        , 0.03529412, 0.80392157,\n",
       "        0.97254902, 0.22745098, 0.        , 0.        , 0.        ,\n",
       "        0.        , 0.        , 0.        , 0.        , 0.        ,\n",
       "        0.        , 0.        , 0.        , 0.        , 0.        ,\n",
       "        0.        , 0.        , 0.        , 0.        , 0.        ,\n",
       "        0.        , 0.        , 0.        , 0.        , 0.        ,\n",
       "        0.        , 0.49411765, 0.99607843, 0.71372549, 0.        ,\n",
       "        0.        , 0.        , 0.        , 0.        , 0.        ,\n",
       "        0.        , 0.        , 0.        , 0.        , 0.        ,\n",
       "        0.        , 0.        , 0.        , 0.        , 0.        ,\n",
       "        0.        , 0.        , 0.        , 0.        , 0.        ,\n",
       "        0.        , 0.        , 0.        , 0.29411765, 0.98431373,\n",
       "        0.94117647, 0.22352941, 0.        , 0.        , 0.        ,\n",
       "        0.        , 0.        , 0.        , 0.        , 0.        ,\n",
       "        0.        , 0.        , 0.        , 0.        , 0.        ,\n",
       "        0.        , 0.        , 0.        , 0.        , 0.        ,\n",
       "        0.        , 0.        , 0.        , 0.        , 0.        ,\n",
       "        0.0745098 , 0.86666667, 0.99607843, 0.65098039, 0.        ,\n",
       "        0.        , 0.        , 0.        , 0.        , 0.        ,\n",
       "        0.        , 0.        , 0.        , 0.        , 0.        ,\n",
       "        0.        , 0.        , 0.        , 0.        , 0.        ,\n",
       "        0.        , 0.        , 0.        , 0.        , 0.        ,\n",
       "        0.        , 0.        , 0.01176471, 0.79607843, 0.99607843,\n",
       "        0.85882353, 0.1372549 , 0.        , 0.        , 0.        ,\n",
       "        0.        , 0.        , 0.        , 0.        , 0.        ,\n",
       "        0.        , 0.        , 0.        , 0.        , 0.        ,\n",
       "        0.        , 0.        , 0.        , 0.        , 0.        ,\n",
       "        0.        , 0.        , 0.        , 0.        , 0.        ,\n",
       "        0.14901961, 0.99607843, 0.99607843, 0.30196078, 0.        ,\n",
       "        0.        , 0.        , 0.        , 0.        , 0.        ,\n",
       "        0.        , 0.        , 0.        , 0.        , 0.        ,\n",
       "        0.        , 0.        , 0.        , 0.        , 0.        ,\n",
       "        0.        , 0.        , 0.        , 0.        , 0.        ,\n",
       "        0.        , 0.        , 0.12156863, 0.87843137, 0.99607843,\n",
       "        0.45098039, 0.00392157, 0.        , 0.        , 0.        ,\n",
       "        0.        , 0.        , 0.        , 0.        , 0.        ,\n",
       "        0.        , 0.        , 0.        , 0.        , 0.        ,\n",
       "        0.        , 0.        , 0.        , 0.        , 0.        ,\n",
       "        0.        , 0.        , 0.        , 0.        , 0.        ,\n",
       "        0.52156863, 0.99607843, 0.99607843, 0.20392157, 0.        ,\n",
       "        0.        , 0.        , 0.        , 0.        , 0.        ,\n",
       "        0.        , 0.        , 0.        , 0.        , 0.        ,\n",
       "        0.        , 0.        , 0.        , 0.        , 0.        ,\n",
       "        0.        , 0.        , 0.        , 0.        , 0.        ,\n",
       "        0.        , 0.        , 0.23921569, 0.94901961, 0.99607843,\n",
       "        0.99607843, 0.20392157, 0.        , 0.        , 0.        ,\n",
       "        0.        , 0.        , 0.        , 0.        , 0.        ,\n",
       "        0.        , 0.        , 0.        , 0.        , 0.        ,\n",
       "        0.        , 0.        , 0.        , 0.        , 0.        ,\n",
       "        0.        , 0.        , 0.        , 0.        , 0.        ,\n",
       "        0.4745098 , 0.99607843, 0.99607843, 0.85882353, 0.15686275,\n",
       "        0.        , 0.        , 0.        , 0.        , 0.        ,\n",
       "        0.        , 0.        , 0.        , 0.        , 0.        ,\n",
       "        0.        , 0.        , 0.        , 0.        , 0.        ,\n",
       "        0.        , 0.        , 0.        , 0.        , 0.        ,\n",
       "        0.        , 0.        , 0.        , 0.4745098 , 0.99607843,\n",
       "        0.81176471, 0.07058824, 0.        , 0.        , 0.        ,\n",
       "        0.        , 0.        , 0.        , 0.        , 0.        ,\n",
       "        0.        , 0.        , 0.        , 0.        , 0.        ,\n",
       "        0.        , 0.        , 0.        , 0.        , 0.        ,\n",
       "        0.        , 0.        , 0.        , 0.        , 0.        ,\n",
       "        0.        , 0.        , 0.        , 0.        , 0.        ,\n",
       "        0.        , 0.        , 0.        , 0.        , 0.        ,\n",
       "        0.        , 0.        , 0.        , 0.        , 0.        ,\n",
       "        0.        , 0.        , 0.        , 0.        ]])"
      ]
     },
     "execution_count": 48,
     "metadata": {},
     "output_type": "execute_result"
    }
   ],
   "source": [
    "np.expand_dims(test_x[0],0)"
   ]
  },
  {
   "cell_type": "code",
   "execution_count": 45,
   "metadata": {},
   "outputs": [
    {
     "data": {
      "text/plain": [
       "array([0., 0., 0., 0., 0., 0., 0., 1., 0., 0.], dtype=float32)"
      ]
     },
     "execution_count": 45,
     "metadata": {},
     "output_type": "execute_result"
    }
   ],
   "source": [
    "test_y[0]"
   ]
  },
  {
   "cell_type": "code",
   "execution_count": 49,
   "metadata": {},
   "outputs": [
    {
     "data": {
      "text/plain": [
       "array([[3.2999294e-15, 5.5027601e-15, 1.6231711e-13, 1.7471750e-12,\n",
       "        2.6111574e-14, 1.9312836e-21, 3.1388645e-20, 1.0000000e+00,\n",
       "        1.1228649e-14, 2.7692071e-10]], dtype=float32)"
      ]
     },
     "execution_count": 49,
     "metadata": {},
     "output_type": "execute_result"
    }
   ],
   "source": [
    "# 확률값을 출력\n",
    "model.predict(np.expand_dims(test_x[0],0))"
   ]
  },
  {
   "cell_type": "code",
   "execution_count": 50,
   "metadata": {},
   "outputs": [
    {
     "name": "stderr",
     "output_type": "stream",
     "text": [
      "C:\\Users\\sundooedu\\anaconda3\\lib\\site-packages\\tensorflow\\python\\keras\\engine\\sequential.py:450: UserWarning: `model.predict_classes()` is deprecated and will be removed after 2021-01-01. Please use instead:* `np.argmax(model.predict(x), axis=-1)`,   if your model does multi-class classification   (e.g. if it uses a `softmax` last-layer activation).* `(model.predict(x) > 0.5).astype(\"int32\")`,   if your model does binary classification   (e.g. if it uses a `sigmoid` last-layer activation).\n",
      "  warnings.warn('`model.predict_classes()` is deprecated and '\n"
     ]
    },
    {
     "data": {
      "text/plain": [
       "array([7], dtype=int64)"
      ]
     },
     "execution_count": 50,
     "metadata": {},
     "output_type": "execute_result"
    }
   ],
   "source": [
    "# label값으로 출력\n",
    "model.predict_classes(np.expand_dims(test_x[0],0))"
   ]
  },
  {
   "cell_type": "code",
   "execution_count": 52,
   "metadata": {},
   "outputs": [
    {
     "name": "stdout",
     "output_type": "stream",
     "text": [
      "Collecting opencv-python\n",
      "  Downloading opencv_python-4.5.1.48-cp38-cp38-win_amd64.whl (34.9 MB)\n",
      "Requirement already satisfied: numpy>=1.17.3 in c:\\users\\sundooedu\\anaconda3\\lib\\site-packages (from opencv-python) (1.19.2)\n",
      "Installing collected packages: opencv-python\n",
      "Successfully installed opencv-python-4.5.1.48\n"
     ]
    }
   ],
   "source": [
    "!pip install opencv-python"
   ]
  },
  {
   "cell_type": "code",
   "execution_count": 53,
   "metadata": {},
   "outputs": [],
   "source": [
    "import cv2"
   ]
  },
  {
   "cell_type": "code",
   "execution_count": 77,
   "metadata": {},
   "outputs": [],
   "source": [
    "img = cv2.imread('2.jpg', cv2.IMREAD_GRAYSCALE)\n",
    "# 이미지 리사이징\n",
    "img = cv2.resize(img, None, fx=28/img.shape[1], fy=28/img.shape[0])\n",
    "img = img/255"
   ]
  },
  {
   "cell_type": "code",
   "execution_count": 78,
   "metadata": {},
   "outputs": [
    {
     "data": {
      "text/plain": [
       "(28, 28)"
      ]
     },
     "execution_count": 78,
     "metadata": {},
     "output_type": "execute_result"
    }
   ],
   "source": [
    "img.shape"
   ]
  },
  {
   "cell_type": "code",
   "execution_count": 79,
   "metadata": {},
   "outputs": [
    {
     "data": {
      "image/png": "[encoded data removed]",
      "text/plain": [
       "<Figure size 432x288 with 1 Axes>"
      ]
     },
     "metadata": {
      "needs_background": "light"
     },
     "output_type": "display_data"
    }
   ],
   "source": [
    "plt.imshow(img,'gray')\n",
    "plt.show()"
   ]
  },
  {
   "cell_type": "code",
   "execution_count": 80,
   "metadata": {},
   "outputs": [],
   "source": [
    "img = img.reshape(-1)"
   ]
  },
  {
   "cell_type": "code",
   "execution_count": 81,
   "metadata": {},
   "outputs": [
    {
     "data": {
      "text/plain": [
       "(784,)"
      ]
     },
     "execution_count": 81,
     "metadata": {},
     "output_type": "execute_result"
    }
   ],
   "source": [
    "img.shape"
   ]
  },
  {
   "cell_type": "code",
   "execution_count": 82,
   "metadata": {},
   "outputs": [
    {
     "data": {
      "text/plain": [
       "array([[3.8178624e-03, 2.0626435e-07, 1.5564671e-02, 6.7274011e-04,\n",
       "        7.6886371e-02, 4.8136328e-05, 9.0300661e-01, 1.3913692e-06,\n",
       "        3.3617778e-07, 1.7172352e-06]], dtype=float32)"
      ]
     },
     "execution_count": 82,
     "metadata": {},
     "output_type": "execute_result"
    }
   ],
   "source": [
    "model.predict(np.expand_dims(img,0))"
   ]
  },
  {
   "cell_type": "code",
   "execution_count": 83,
   "metadata": {},
   "outputs": [
    {
     "data": {
      "text/plain": [
       "array([6], dtype=int64)"
      ]
     },
     "execution_count": 83,
     "metadata": {},
     "output_type": "execute_result"
    }
   ],
   "source": [
    "model.predict_classes(np.expand_dims(img,0))"
   ]
  },
  {
   "cell_type": "code",
   "execution_count": 84,
   "metadata": {},
   "outputs": [
    {
     "data": {
      "text/plain": [
       "array([0., 0., 1., 0., 0., 0., 0., 0., 0., 0.], dtype=float32)"
      ]
     },
     "execution_count": 84,
     "metadata": {},
     "output_type": "execute_result"
    }
   ],
   "source": [
    "test_y[1]"
   ]
  },
  {
   "cell_type": "code",
   "execution_count": 87,
   "metadata": {},
   "outputs": [
    {
     "data": {
      "text/plain": [
       "array([2], dtype=int64)"
      ]
     },
     "execution_count": 87,
     "metadata": {},
     "output_type": "execute_result"
    }
   ],
   "source": [
    "model.predict_classes(np.expand_dims(test_x[1],0))"
   ]
  }
 ],
 "metadata": {
  "kernelspec": {
   "display_name": "Python 3",
   "language": "python",
   "name": "python3"
  },
  "language_info": {
   "codemirror_mode": {
    "name": "ipython",
    "version": 3
   },
   "file_extension": ".py",
   "mimetype": "text/x-python",
   "name": "python",
   "nbconvert_exporter": "python",
   "pygments_lexer": "ipython3",
   "version": "3.8.5"
  }
 },
 "nbformat": 4,
 "nbformat_minor": 4
}
