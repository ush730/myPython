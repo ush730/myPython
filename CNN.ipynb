{
 "cells": [
  {
   "cell_type": "code",
   "execution_count": 1,
   "metadata": {
    "collapsed": true
   },
   "outputs": [
    {
     "name": "stdout",
     "output_type": "stream",
     "text": [
      "Downloading data from https://storage.googleapis.com/tensorflow/tf-keras-datasets/train-labels-idx1-ubyte.gz\n",
      "32768/29515 [=================================] - 0s 0us/step\n",
      "Downloading data from https://storage.googleapis.com/tensorflow/tf-keras-datasets/train-images-idx3-ubyte.gz\n",
      "26427392/26421880 [==============================] - 1s 0us/step\n",
      "Downloading data from https://storage.googleapis.com/tensorflow/tf-keras-datasets/t10k-labels-idx1-ubyte.gz\n",
      "8192/5148 [===============================================] - 0s 0us/step\n",
      "Downloading data from https://storage.googleapis.com/tensorflow/tf-keras-datasets/t10k-images-idx3-ubyte.gz\n",
      "4423680/4422102 [==============================] - 0s 0us/step\n"
     ]
    }
   ],
   "source": [
    "# fashion-mnist 데이터 불러오기\n",
    "from tensorflow.keras import datasets\n",
    "data = datasets.fashion_mnist\n",
    "(train_x,train_y), (test_x,test_y) = data.load_data()"
   ]
  },
  {
   "cell_type": "code",
   "execution_count": 2,
   "metadata": {},
   "outputs": [
    {
     "data": {
      "text/plain": [
       "((60000, 28, 28), (60000,), (10000, 28, 28), (10000,))"
      ]
     },
     "execution_count": 2,
     "metadata": {},
     "output_type": "execute_result"
    }
   ],
   "source": [
    "train_x.shape,train_y.shape, test_x.shape,test_y.shape"
   ]
  },
  {
   "cell_type": "code",
   "execution_count": 4,
   "metadata": {},
   "outputs": [
    {
     "data": {
      "image/png": "[encoded data removed]",
      "text/plain": [
       "<Figure size 432x288 with 1 Axes>"
      ]
     },
     "metadata": {
      "needs_background": "light"
     },
     "output_type": "display_data"
    }
   ],
   "source": [
    "import matplotlib.pyplot as plt\n",
    "plt.imshow(train_x[0],'gray')\n",
    "plt.show()"
   ]
  },
  {
   "cell_type": "code",
   "execution_count": 5,
   "metadata": {},
   "outputs": [
    {
     "data": {
      "text/plain": [
       "9"
      ]
     },
     "execution_count": 5,
     "metadata": {},
     "output_type": "execute_result"
    }
   ],
   "source": [
    "train_y[0]"
   ]
  },
  {
   "cell_type": "code",
   "execution_count": 6,
   "metadata": {},
   "outputs": [],
   "source": [
    "# 데이터 분리\n",
    "from sklearn.model_selection import train_test_split\n",
    "train_x, valid_x, train_y, valid_y = train_test_split(train_x, train_y, random_state=10)"
   ]
  },
  {
   "cell_type": "code",
   "execution_count": 7,
   "metadata": {},
   "outputs": [
    {
     "data": {
      "text/plain": [
       "((45000, 28, 28), (15000, 28, 28), (45000,), (15000,))"
      ]
     },
     "execution_count": 7,
     "metadata": {},
     "output_type": "execute_result"
    }
   ],
   "source": [
    "train_x.shape, valid_x.shape, train_y.shape, valid_y.shape"
   ]
  },
  {
   "cell_type": "code",
   "execution_count": 10,
   "metadata": {},
   "outputs": [],
   "source": [
    "# 4차원으로 변환\n",
    "train_x = train_x.reshape(-1,28,28,1)\n",
    "valid_x = valid_x.reshape(-1,28,28,1)\n",
    "test_x = test_x.reshape(-1,28,28,1)"
   ]
  },
  {
   "cell_type": "code",
   "execution_count": 11,
   "metadata": {},
   "outputs": [],
   "source": [
    "# 정규화\n",
    "train_x = train_x/255\n",
    "valid_x = valid_x/255\n",
    "test_x = test_x/255"
   ]
  },
  {
   "cell_type": "code",
   "execution_count": 12,
   "metadata": {},
   "outputs": [],
   "source": [
    "# 레이블 인코딩\n",
    "from tensorflow.keras.utils import to_categorical\n",
    "train_y = to_categorical(train_y)\n",
    "valid_y = to_categorical(valid_y)\n",
    "test_y = to_categorical(test_y)"
   ]
  },
  {
   "cell_type": "markdown",
   "metadata": {},
   "source": [
    "### CNN 구현"
   ]
  },
  {
   "cell_type": "code",
   "execution_count": 13,
   "metadata": {},
   "outputs": [],
   "source": [
    "import tensorflow as tf\n",
    "from tensorflow.keras.models import Sequential\n",
    "from tensorflow.keras.layers import Dense, Conv2D, MaxPool2D, Flatten"
   ]
  },
  {
   "cell_type": "code",
   "execution_count": 17,
   "metadata": {},
   "outputs": [
    {
     "name": "stdout",
     "output_type": "stream",
     "text": [
      "Epoch 1/30\n",
      "900/900 [==============================] - 17s 18ms/step - loss: 0.7846 - acc: 0.7150 - val_loss: 0.3913 - val_acc: 0.8627\n",
      "Epoch 2/30\n",
      "900/900 [==============================] - 15s 16ms/step - loss: 0.3613 - acc: 0.8710 - val_loss: 0.3407 - val_acc: 0.8783\n",
      "Epoch 3/30\n",
      "900/900 [==============================] - 14s 16ms/step - loss: 0.3124 - acc: 0.8868 - val_loss: 0.3113 - val_acc: 0.8895\n",
      "Epoch 4/30\n",
      "900/900 [==============================] - 14s 15ms/step - loss: 0.2808 - acc: 0.8994 - val_loss: 0.3111 - val_acc: 0.8899\n",
      "Epoch 5/30\n",
      "900/900 [==============================] - 13s 15ms/step - loss: 0.2574 - acc: 0.9080 - val_loss: 0.2840 - val_acc: 0.8959\n",
      "Epoch 6/30\n",
      "900/900 [==============================] - 13s 14ms/step - loss: 0.2378 - acc: 0.9144 - val_loss: 0.2643 - val_acc: 0.9033\n",
      "Epoch 7/30\n",
      "900/900 [==============================] - 13s 14ms/step - loss: 0.2216 - acc: 0.9180 - val_loss: 0.2641 - val_acc: 0.9031\n",
      "Epoch 8/30\n",
      "900/900 [==============================] - 13s 14ms/step - loss: 0.2088 - acc: 0.9228 - val_loss: 0.2571 - val_acc: 0.9081\n",
      "Epoch 9/30\n",
      "900/900 [==============================] - 13s 14ms/step - loss: 0.1977 - acc: 0.9280 - val_loss: 0.2688 - val_acc: 0.9070\n",
      "Epoch 10/30\n",
      "900/900 [==============================] - 13s 14ms/step - loss: 0.1806 - acc: 0.9342 - val_loss: 0.2557 - val_acc: 0.9108\n",
      "Epoch 11/30\n",
      "900/900 [==============================] - 13s 14ms/step - loss: 0.1714 - acc: 0.9385 - val_loss: 0.2712 - val_acc: 0.9065\n",
      "Epoch 12/30\n",
      "900/900 [==============================] - 13s 14ms/step - loss: 0.1591 - acc: 0.9433 - val_loss: 0.2630 - val_acc: 0.9060\n",
      "Epoch 13/30\n",
      "900/900 [==============================] - 12s 14ms/step - loss: 0.1559 - acc: 0.9428 - val_loss: 0.2502 - val_acc: 0.9148\n",
      "Epoch 14/30\n",
      "900/900 [==============================] - 13s 14ms/step - loss: 0.1419 - acc: 0.9473 - val_loss: 0.2532 - val_acc: 0.9152\n",
      "Epoch 15/30\n",
      "900/900 [==============================] - 13s 14ms/step - loss: 0.1352 - acc: 0.9491 - val_loss: 0.2594 - val_acc: 0.9141\n",
      "Epoch 16/30\n",
      "900/900 [==============================] - 13s 14ms/step - loss: 0.1238 - acc: 0.9542 - val_loss: 0.2709 - val_acc: 0.9149\n",
      "Epoch 17/30\n",
      "900/900 [==============================] - 13s 14ms/step - loss: 0.1204 - acc: 0.9551 - val_loss: 0.3027 - val_acc: 0.9055\n",
      "Epoch 18/30\n",
      "900/900 [==============================] - 13s 14ms/step - loss: 0.1144 - acc: 0.9596 - val_loss: 0.2958 - val_acc: 0.9111\n",
      "Epoch 19/30\n",
      "900/900 [==============================] - 13s 15ms/step - loss: 0.1045 - acc: 0.9606 - val_loss: 0.3177 - val_acc: 0.9060\n",
      "Epoch 20/30\n",
      "900/900 [==============================] - 13s 14ms/step - loss: 0.1011 - acc: 0.9637 - val_loss: 0.3038 - val_acc: 0.9135\n",
      "Epoch 21/30\n",
      "900/900 [==============================] - 13s 14ms/step - loss: 0.0966 - acc: 0.9647 - val_loss: 0.3004 - val_acc: 0.9144\n",
      "Epoch 22/30\n",
      "900/900 [==============================] - 13s 14ms/step - loss: 0.0911 - acc: 0.9671 - val_loss: 0.3175 - val_acc: 0.9111\n",
      "Epoch 23/30\n",
      "900/900 [==============================] - 13s 14ms/step - loss: 0.0848 - acc: 0.9692 - val_loss: 0.3377 - val_acc: 0.9098\n",
      "Epoch 24/30\n",
      "900/900 [==============================] - 13s 15ms/step - loss: 0.0792 - acc: 0.9705 - val_loss: 0.3295 - val_acc: 0.9134\n",
      "Epoch 25/30\n",
      "900/900 [==============================] - 13s 14ms/step - loss: 0.0739 - acc: 0.9737 - val_loss: 0.3483 - val_acc: 0.9109\n",
      "Epoch 26/30\n",
      "900/900 [==============================] - 13s 14ms/step - loss: 0.0701 - acc: 0.9741 - val_loss: 0.3741 - val_acc: 0.9068\n",
      "Epoch 27/30\n",
      "900/900 [==============================] - 13s 14ms/step - loss: 0.0635 - acc: 0.9766 - val_loss: 0.3887 - val_acc: 0.9098\n",
      "Epoch 28/30\n",
      "900/900 [==============================] - 13s 14ms/step - loss: 0.0599 - acc: 0.9785 - val_loss: 0.3932 - val_acc: 0.9114\n",
      "Epoch 29/30\n",
      "900/900 [==============================] - 13s 14ms/step - loss: 0.0553 - acc: 0.9793 - val_loss: 0.3989 - val_acc: 0.9100\n",
      "Epoch 30/30\n",
      "900/900 [==============================] - 13s 14ms/step - loss: 0.0606 - acc: 0.9778 - val_loss: 0.4124 - val_acc: 0.9099\n"
     ]
    }
   ],
   "source": [
    "# 랜덤시드값\n",
    "tf.random.set_seed(14)\n",
    "# 시퀀셜객체생성\n",
    "model = Sequential()\n",
    "\n",
    "# 합성곱레이어\n",
    "# 파라미터\n",
    "# feature map의 차원\n",
    "# 필터의 크기(튜플) == 커널사이즈\n",
    "# padding : same 입력과 출력형태를 동일하게\n",
    "# activation : 활성화함수\n",
    "# input_shape : 입력데이터 차원\n",
    "model.add(Conv2D(16, (3,3), padding='same', activation='relu', input_shape=(28,28,1)))\n",
    "# 풀링레이어\n",
    "# pool_size : 풀링레이어에서 사용할 커널사이즈\n",
    "model.add(MaxPool2D((2,2)))\n",
    "\n",
    "model.add(Conv2D(32, (3,3), padding='same', activation='relu'))\n",
    "model.add(MaxPool2D((2,2)))\n",
    "\n",
    "# 평탄화\n",
    "model.add(Flatten())\n",
    "model.add(Dense(32, activation='relu'))\n",
    "# 출력레이어\n",
    "model.add(Dense(10, activation='softmax'))\n",
    "\n",
    "# 모델의 구조확인\n",
    "#model.summary()\n",
    "\n",
    "# 모델 설정\n",
    "model.compile(optimizer='adam', loss='categorical_crossentropy', metrics=['acc'])\n",
    "\n",
    "# 학습\n",
    "history = model.fit(train_x, train_y, epochs=30, batch_size=50, validation_data=(valid_x, valid_y))"
   ]
  },
  {
   "cell_type": "code",
   "execution_count": 18,
   "metadata": {},
   "outputs": [
    {
     "name": "stdout",
     "output_type": "stream",
     "text": [
      "313/313 [==============================] - 1s 3ms/step - loss: 0.4247 - acc: 0.9059\n"
     ]
    },
    {
     "data": {
      "text/plain": [
       "[0.4247048795223236, 0.9059000015258789]"
      ]
     },
     "execution_count": 18,
     "metadata": {},
     "output_type": "execute_result"
    }
   ],
   "source": [
    "# 학습된 모델로 테스트데이터 평가\n",
    "model.evaluate(test_x, test_y)"
   ]
  },
  {
   "cell_type": "code",
   "execution_count": 19,
   "metadata": {},
   "outputs": [
    {
     "data": {
      "image/png": "[encoded data removed]",
      "text/plain": [
       "<Figure size 432x288 with 1 Axes>"
      ]
     },
     "metadata": {
      "needs_background": "light"
     },
     "output_type": "display_data"
    }
   ],
   "source": [
    "plt.plot(history.history['loss'],c='r')\n",
    "plt.plot(history.history['val_loss'],c='g')\n",
    "plt.show()"
   ]
  },
  {
   "cell_type": "markdown",
   "metadata": {},
   "source": [
    "### 성능평가"
   ]
  },
  {
   "cell_type": "code",
   "execution_count": 20,
   "metadata": {},
   "outputs": [
    {
     "data": {
      "text/plain": [
       "array([[839,   2,  12,  13,   3,   0, 117,   0,  13,   1],\n",
       "       [  0, 984,   3,   7,   3,   0,   3,   0,   0,   0],\n",
       "       [ 22,   1, 891,   5,  30,   0,  49,   0,   2,   0],\n",
       "       [ 18,   7,   8, 908,  22,   0,  32,   0,   4,   1],\n",
       "       [  2,   0, 104,  30, 807,   1,  56,   0,   0,   0],\n",
       "       [  0,   0,   0,   0,   0, 971,   0,  20,   3,   6],\n",
       "       [101,   2,  65,  22,  47,   0, 754,   0,   9,   0],\n",
       "       [  0,   0,   0,   0,   0,   5,   0, 971,   0,  24],\n",
       "       [  5,   2,   3,   3,   2,   3,   6,   2, 974,   0],\n",
       "       [  0,   0,   0,   0,   0,   4,   1,  35,   0, 960]], dtype=int64)"
      ]
     },
     "execution_count": 20,
     "metadata": {},
     "output_type": "execute_result"
    }
   ],
   "source": [
    "# 혼동행렬\n",
    "from sklearn.metrics import confusion_matrix\n",
    "import numpy as np\n",
    "pred = model.predict(test_x)\n",
    "confusion_matrix(np.argmax(test_y,axis=1), np.argmax(pred,axis=1))"
   ]
  },
  {
   "cell_type": "code",
   "execution_count": 21,
   "metadata": {},
   "outputs": [],
   "source": [
    "# 실제 셔츠인데, 티셔츠라고 모델이 잘못 예측한게 101개\n",
    "# 실제 티셔츠인데, 모델이 셔츠라고 잘못 예측한게 117개"
   ]
  },
  {
   "cell_type": "code",
   "execution_count": 22,
   "metadata": {},
   "outputs": [
    {
     "name": "stdout",
     "output_type": "stream",
     "text": [
      "              precision    recall  f1-score   support\n",
      "\n",
      "           0       0.85      0.84      0.84      1000\n",
      "           1       0.99      0.98      0.98      1000\n",
      "           2       0.82      0.89      0.85      1000\n",
      "           3       0.92      0.91      0.91      1000\n",
      "           4       0.88      0.81      0.84      1000\n",
      "           5       0.99      0.97      0.98      1000\n",
      "           6       0.74      0.75      0.75      1000\n",
      "           7       0.94      0.97      0.96      1000\n",
      "           8       0.97      0.97      0.97      1000\n",
      "           9       0.97      0.96      0.96      1000\n",
      "\n",
      "    accuracy                           0.91     10000\n",
      "   macro avg       0.91      0.91      0.91     10000\n",
      "weighted avg       0.91      0.91      0.91     10000\n",
      "\n"
     ]
    }
   ],
   "source": [
    "from sklearn.metrics import classification_report\n",
    "print(classification_report(np.argmax(test_y,axis=1), np.argmax(pred,axis=1)))"
   ]
  },
  {
   "cell_type": "markdown",
   "metadata": {},
   "source": [
    "### 성능개선"
   ]
  },
  {
   "cell_type": "code",
   "execution_count": 23,
   "metadata": {},
   "outputs": [
    {
     "name": "stdout",
     "output_type": "stream",
     "text": [
      "Epoch 1/30\n",
      "900/900 [==============================] - 16s 17ms/step - loss: 0.8023 - acc: 0.7168 - val_loss: 0.4179 - val_acc: 0.8641\n",
      "Epoch 2/30\n",
      "900/900 [==============================] - 15s 16ms/step - loss: 0.3889 - acc: 0.8694 - val_loss: 0.3750 - val_acc: 0.8732\n",
      "Epoch 3/30\n",
      "900/900 [==============================] - 15s 16ms/step - loss: 0.3435 - acc: 0.8838 - val_loss: 0.3349 - val_acc: 0.8885\n",
      "Epoch 4/30\n",
      "900/900 [==============================] - 14s 15ms/step - loss: 0.3119 - acc: 0.8942 - val_loss: 0.3248 - val_acc: 0.8930\n",
      "Epoch 5/30\n",
      "900/900 [==============================] - 13s 14ms/step - loss: 0.2897 - acc: 0.9058 - val_loss: 0.3112 - val_acc: 0.8935\n",
      "Epoch 6/30\n",
      "900/900 [==============================] - 13s 14ms/step - loss: 0.2718 - acc: 0.9094 - val_loss: 0.2962 - val_acc: 0.9015\n",
      "Epoch 7/30\n",
      "900/900 [==============================] - 13s 14ms/step - loss: 0.2584 - acc: 0.9119 - val_loss: 0.3016 - val_acc: 0.8969\n",
      "Epoch 8/30\n",
      "900/900 [==============================] - 13s 14ms/step - loss: 0.2475 - acc: 0.9157 - val_loss: 0.2886 - val_acc: 0.9027\n",
      "Epoch 9/30\n",
      "900/900 [==============================] - 13s 14ms/step - loss: 0.2369 - acc: 0.9201 - val_loss: 0.2971 - val_acc: 0.9029\n",
      "Epoch 10/30\n",
      "900/900 [==============================] - 13s 14ms/step - loss: 0.2215 - acc: 0.9263 - val_loss: 0.2827 - val_acc: 0.9054\n",
      "Epoch 11/30\n",
      "900/900 [==============================] - 13s 14ms/step - loss: 0.2168 - acc: 0.9291 - val_loss: 0.2787 - val_acc: 0.9057\n",
      "Epoch 12/30\n",
      "900/900 [==============================] - 13s 14ms/step - loss: 0.2026 - acc: 0.9329 - val_loss: 0.2917 - val_acc: 0.9017\n",
      "Epoch 13/30\n",
      "900/900 [==============================] - 13s 14ms/step - loss: 0.2011 - acc: 0.9338 - val_loss: 0.2672 - val_acc: 0.9117\n",
      "Epoch 14/30\n",
      "900/900 [==============================] - 13s 14ms/step - loss: 0.1906 - acc: 0.9355 - val_loss: 0.2770 - val_acc: 0.9131\n",
      "Epoch 15/30\n",
      "900/900 [==============================] - 13s 14ms/step - loss: 0.1836 - acc: 0.9406 - val_loss: 0.2758 - val_acc: 0.9107\n",
      "Epoch 16/30\n",
      "900/900 [==============================] - 13s 14ms/step - loss: 0.1734 - acc: 0.9454 - val_loss: 0.2696 - val_acc: 0.9123\n",
      "Epoch 17/30\n",
      "900/900 [==============================] - 13s 14ms/step - loss: 0.1726 - acc: 0.9427 - val_loss: 0.2924 - val_acc: 0.9087\n",
      "Epoch 18/30\n",
      "900/900 [==============================] - 13s 14ms/step - loss: 0.1670 - acc: 0.9470 - val_loss: 0.3011 - val_acc: 0.9065\n",
      "Epoch 19/30\n",
      "900/900 [==============================] - 13s 14ms/step - loss: 0.1610 - acc: 0.9489 - val_loss: 0.3036 - val_acc: 0.9061\n",
      "Epoch 20/30\n",
      "900/900 [==============================] - 13s 14ms/step - loss: 0.1515 - acc: 0.9518 - val_loss: 0.2768 - val_acc: 0.9119\n",
      "Epoch 21/30\n",
      "900/900 [==============================] - 13s 14ms/step - loss: 0.1520 - acc: 0.9507 - val_loss: 0.2924 - val_acc: 0.9101\n",
      "Epoch 22/30\n",
      "900/900 [==============================] - 13s 14ms/step - loss: 0.1468 - acc: 0.9553 - val_loss: 0.2863 - val_acc: 0.9114\n",
      "Epoch 23/30\n",
      "900/900 [==============================] - 13s 14ms/step - loss: 0.1412 - acc: 0.9563 - val_loss: 0.2966 - val_acc: 0.9125\n",
      "Epoch 24/30\n",
      "900/900 [==============================] - 12s 14ms/step - loss: 0.1358 - acc: 0.9579 - val_loss: 0.2899 - val_acc: 0.9119\n",
      "Epoch 25/30\n",
      "900/900 [==============================] - 13s 14ms/step - loss: 0.1349 - acc: 0.9582 - val_loss: 0.2996 - val_acc: 0.9129\n",
      "Epoch 26/30\n",
      "900/900 [==============================] - 13s 14ms/step - loss: 0.1271 - acc: 0.9601 - val_loss: 0.3400 - val_acc: 0.9042\n",
      "Epoch 27/30\n",
      "900/900 [==============================] - 12s 14ms/step - loss: 0.1259 - acc: 0.9615 - val_loss: 0.3232 - val_acc: 0.9132\n",
      "Epoch 28/30\n",
      "900/900 [==============================] - 12s 14ms/step - loss: 0.1175 - acc: 0.9643 - val_loss: 0.3386 - val_acc: 0.9103\n",
      "Epoch 29/30\n",
      "900/900 [==============================] - 12s 14ms/step - loss: 0.1156 - acc: 0.9658 - val_loss: 0.3486 - val_acc: 0.9056\n",
      "Epoch 30/30\n",
      "900/900 [==============================] - 13s 14ms/step - loss: 0.1162 - acc: 0.9645 - val_loss: 0.3336 - val_acc: 0.9080\n"
     ]
    }
   ],
   "source": [
    "# Regularizer\n",
    "# L2 적용 (규제함수)\n",
    "\n",
    "from tensorflow.keras.regularizers import l2\n",
    "# 랜덤시드값\n",
    "tf.random.set_seed(14)\n",
    "# 시퀀셜객체생성\n",
    "model = Sequential()\n",
    "\n",
    "# 합성곱레이어\n",
    "# 파라미터\n",
    "# feature map의 차원\n",
    "# 필터의 크기(튜플) == 커널사이즈\n",
    "# padding : same 입력과 출력형태를 동일하게\n",
    "# activation : 활성화함수\n",
    "# input_shape : 입력데이터 차원\n",
    "model.add(Conv2D(16, (3,3), padding='same', activation='relu', input_shape=(28,28,1)))\n",
    "# 풀링레이어\n",
    "# pool_size : 풀링레이어에서 사용할 커널사이즈\n",
    "model.add(MaxPool2D((2,2)))\n",
    "\n",
    "# 규제함수 추가\n",
    "model.add(Conv2D(32, (3,3), padding='same', activation='relu', kernel_regularizer=l2(0.001)))\n",
    "model.add(MaxPool2D((2,2)))\n",
    "\n",
    "# 평탄화\n",
    "model.add(Flatten())\n",
    "model.add(Dense(32, activation='relu'))\n",
    "# 출력레이어\n",
    "model.add(Dense(10, activation='softmax'))\n",
    "\n",
    "# 모델의 구조확인\n",
    "#model.summary()\n",
    "\n",
    "# 모델 설정\n",
    "model.compile(optimizer='adam', loss='categorical_crossentropy', metrics=['acc'])\n",
    "\n",
    "# 학습\n",
    "history = model.fit(train_x, train_y, epochs=30, batch_size=50, validation_data=(valid_x, valid_y))"
   ]
  },
  {
   "cell_type": "markdown",
   "metadata": {},
   "source": [
    "### Regularizer, BatchNormalization, Dropout 적용"
   ]
  },
  {
   "cell_type": "code",
   "execution_count": 24,
   "metadata": {},
   "outputs": [
    {
     "name": "stdout",
     "output_type": "stream",
     "text": [
      "Epoch 1/30\n",
      "900/900 [==============================] - 36s 39ms/step - loss: 0.8715 - acc: 0.7297 - val_loss: 0.3895 - val_acc: 0.8663\n",
      "Epoch 2/30\n",
      "900/900 [==============================] - 36s 40ms/step - loss: 0.4277 - acc: 0.8553 - val_loss: 0.3329 - val_acc: 0.8858\n",
      "Epoch 3/30\n",
      "900/900 [==============================] - 36s 40ms/step - loss: 0.3790 - acc: 0.8689 - val_loss: 0.3273 - val_acc: 0.8881\n",
      "Epoch 4/30\n",
      "900/900 [==============================] - 35s 39ms/step - loss: 0.3514 - acc: 0.8798 - val_loss: 0.3084 - val_acc: 0.8907\n",
      "Epoch 5/30\n",
      "900/900 [==============================] - 36s 40ms/step - loss: 0.3343 - acc: 0.8864 - val_loss: 0.3057 - val_acc: 0.8929\n",
      "Epoch 6/30\n",
      "900/900 [==============================] - 36s 40ms/step - loss: 0.3264 - acc: 0.8881 - val_loss: 0.2916 - val_acc: 0.8998\n",
      "Epoch 7/30\n",
      "900/900 [==============================] - 35s 39ms/step - loss: 0.3100 - acc: 0.8941 - val_loss: 0.2845 - val_acc: 0.9004\n",
      "Epoch 8/30\n",
      "900/900 [==============================] - 35s 39ms/step - loss: 0.3056 - acc: 0.8935 - val_loss: 0.2728 - val_acc: 0.9066\n",
      "Epoch 9/30\n",
      "900/900 [==============================] - 35s 39ms/step - loss: 0.2978 - acc: 0.8979 - val_loss: 0.2828 - val_acc: 0.9054\n",
      "Epoch 10/30\n",
      "900/900 [==============================] - 35s 39ms/step - loss: 0.2945 - acc: 0.8968 - val_loss: 0.2692 - val_acc: 0.9075\n",
      "Epoch 11/30\n",
      "900/900 [==============================] - 35s 39ms/step - loss: 0.2941 - acc: 0.8940 - val_loss: 0.2908 - val_acc: 0.8961\n",
      "Epoch 12/30\n",
      "900/900 [==============================] - 35s 39ms/step - loss: 0.2815 - acc: 0.9041 - val_loss: 0.2670 - val_acc: 0.9061\n",
      "Epoch 13/30\n",
      "900/900 [==============================] - 34s 38ms/step - loss: 0.2789 - acc: 0.9035 - val_loss: 0.2550 - val_acc: 0.9133\n",
      "Epoch 14/30\n",
      "900/900 [==============================] - 34s 37ms/step - loss: 0.2749 - acc: 0.9037 - val_loss: 0.2744 - val_acc: 0.9043\n",
      "Epoch 15/30\n",
      "900/900 [==============================] - 34s 37ms/step - loss: 0.2805 - acc: 0.9038 - val_loss: 0.2599 - val_acc: 0.9116\n",
      "Epoch 16/30\n",
      "900/900 [==============================] - 34s 37ms/step - loss: 0.2688 - acc: 0.9069 - val_loss: 0.2947 - val_acc: 0.8941\n",
      "Epoch 17/30\n",
      "900/900 [==============================] - 34s 38ms/step - loss: 0.2726 - acc: 0.9061 - val_loss: 0.2672 - val_acc: 0.9073\n",
      "Epoch 18/30\n",
      "900/900 [==============================] - 34s 37ms/step - loss: 0.2727 - acc: 0.9075 - val_loss: 0.2929 - val_acc: 0.8955\n",
      "Epoch 19/30\n",
      "900/900 [==============================] - 33s 37ms/step - loss: 0.2672 - acc: 0.9081 - val_loss: 0.2532 - val_acc: 0.9133\n",
      "Epoch 20/30\n",
      "900/900 [==============================] - 34s 38ms/step - loss: 0.2624 - acc: 0.9091 - val_loss: 0.2474 - val_acc: 0.9183\n",
      "Epoch 21/30\n",
      "900/900 [==============================] - 36s 40ms/step - loss: 0.2615 - acc: 0.9090 - val_loss: 0.2498 - val_acc: 0.9144\n",
      "Epoch 22/30\n",
      "900/900 [==============================] - 36s 39ms/step - loss: 0.2619 - acc: 0.9097 - val_loss: 0.2458 - val_acc: 0.9179\n",
      "Epoch 23/30\n",
      "900/900 [==============================] - 36s 40ms/step - loss: 0.2569 - acc: 0.9106 - val_loss: 0.2564 - val_acc: 0.9141\n",
      "Epoch 24/30\n",
      "900/900 [==============================] - 35s 39ms/step - loss: 0.2580 - acc: 0.9111 - val_loss: 0.2531 - val_acc: 0.9126\n",
      "Epoch 25/30\n",
      "900/900 [==============================] - 35s 39ms/step - loss: 0.2637 - acc: 0.9095 - val_loss: 0.2534 - val_acc: 0.9140\n",
      "Epoch 26/30\n",
      "900/900 [==============================] - 35s 39ms/step - loss: 0.2538 - acc: 0.9127 - val_loss: 0.2680 - val_acc: 0.9059\n",
      "Epoch 27/30\n",
      "900/900 [==============================] - 35s 38ms/step - loss: 0.2542 - acc: 0.9123 - val_loss: 0.2858 - val_acc: 0.9002\n",
      "Epoch 28/30\n",
      "900/900 [==============================] - 35s 38ms/step - loss: 0.2519 - acc: 0.9135 - val_loss: 0.2492 - val_acc: 0.9159\n",
      "Epoch 29/30\n",
      "900/900 [==============================] - 35s 39ms/step - loss: 0.2535 - acc: 0.9121 - val_loss: 0.3478 - val_acc: 0.8715\n",
      "Epoch 30/30\n",
      "900/900 [==============================] - 35s 39ms/step - loss: 0.2588 - acc: 0.9113 - val_loss: 0.2450 - val_acc: 0.9197\n"
     ]
    }
   ],
   "source": [
    "# Regularizer\n",
    "# L2 적용 (규제함수)\n",
    "\n",
    "from tensorflow.keras.regularizers import l2\n",
    "from tensorflow.keras.layers import Activation, BatchNormalization, Dropout\n",
    "# 랜덤시드값\n",
    "tf.random.set_seed(14)\n",
    "# 시퀀셜객체생성\n",
    "model = Sequential()\n",
    "\n",
    "# 합성곱레이어\n",
    "# 파라미터\n",
    "# feature map의 차원\n",
    "# 필터의 크기(튜플) == 커널사이즈\n",
    "# padding : same 입력과 출력형태를 동일하게\n",
    "# activation : 활성화함수\n",
    "# input_shape : 입력데이터 차원\n",
    "# batchnormalization추가 (활성화함수 분리)\n",
    "model.add(Conv2D(16, (3,3), padding='same', input_shape=(28,28,1)))\n",
    "model.add(BatchNormalization())\n",
    "model.add(Activation('relu'))\n",
    "# 풀링레이어\n",
    "# pool_size : 풀링레이어에서 사용할 커널사이즈\n",
    "model.add(MaxPool2D((2,2)))\n",
    "# dropout 적용 (0.2~0.3)\n",
    "model.add(Dropout(0.2))\n",
    "\n",
    "# 규제함수 추가\n",
    "model.add(Conv2D(32, (3,3), padding='same', kernel_regularizer=l2(0.001)))\n",
    "model.add(BatchNormalization())\n",
    "model.add(Activation('relu'))\n",
    "model.add(MaxPool2D((2,2)))\n",
    "model.add(Dropout(0.2))\n",
    "\n",
    "# 평탄화\n",
    "model.add(Flatten())\n",
    "model.add(Dense(32))\n",
    "model.add(BatchNormalization())\n",
    "model.add(Activation('relu'))\n",
    "model.add(Dropout(0.2))\n",
    "# 출력레이어\n",
    "model.add(Dense(10, activation='softmax'))\n",
    "\n",
    "# 모델의 구조확인\n",
    "#model.summary()\n",
    "\n",
    "# 모델 설정\n",
    "model.compile(optimizer='adam', loss='categorical_crossentropy', metrics=['acc'])\n",
    "\n",
    "# 학습\n",
    "history = model.fit(train_x, train_y, epochs=30, batch_size=50, validation_data=(valid_x, valid_y))"
   ]
  },
  {
   "cell_type": "code",
   "execution_count": 25,
   "metadata": {},
   "outputs": [
    {
     "data": {
      "image/png": "[encoded data removed]",
      "text/plain": [
       "<Figure size 432x288 with 1 Axes>"
      ]
     },
     "metadata": {
      "needs_background": "light"
     },
     "output_type": "display_data"
    }
   ],
   "source": [
    "# 셋다 적용후 loss 비교\n",
    "plt.plot(history.history['loss'],c='r')\n",
    "plt.plot(history.history['val_loss'],c='g')\n",
    "plt.show()"
   ]
  },
  {
   "cell_type": "code",
   "execution_count": 26,
   "metadata": {},
   "outputs": [
    {
     "name": "stdout",
     "output_type": "stream",
     "text": [
      "              precision    recall  f1-score   support\n",
      "\n",
      "           0       0.86      0.88      0.87      1000\n",
      "           1       1.00      0.97      0.99      1000\n",
      "           2       0.87      0.89      0.88      1000\n",
      "           3       0.89      0.93      0.91      1000\n",
      "           4       0.87      0.89      0.88      1000\n",
      "           5       0.99      0.97      0.98      1000\n",
      "           6       0.78      0.72      0.75      1000\n",
      "           7       0.93      0.99      0.96      1000\n",
      "           8       0.99      0.98      0.99      1000\n",
      "           9       0.98      0.94      0.96      1000\n",
      "\n",
      "    accuracy                           0.92     10000\n",
      "   macro avg       0.92      0.92      0.92     10000\n",
      "weighted avg       0.92      0.92      0.92     10000\n",
      "\n"
     ]
    }
   ],
   "source": [
    "# 셋다 적용후 분류보고서 출력\n",
    "pred = model.predict(test_x)\n",
    "print(classification_report(np.argmax(test_y,axis=1), np.argmax(pred,axis=1)))"
   ]
  },
  {
   "cell_type": "markdown",
   "metadata": {},
   "source": [
    "### Early Stopping\n",
    "* monitor : 모니터링(val_loss)\n",
    "* patience : 성능이 증가하지 않는 epochs의 허용 횟수"
   ]
  },
  {
   "cell_type": "code",
   "execution_count": 28,
   "metadata": {},
   "outputs": [
    {
     "name": "stdout",
     "output_type": "stream",
     "text": [
      "Epoch 1/50\n",
      "900/900 [==============================] - 16s 17ms/step - loss: 0.7846 - acc: 0.7150 - val_loss: 0.3913 - val_acc: 0.8627\n",
      "Epoch 2/50\n",
      "900/900 [==============================] - 15s 17ms/step - loss: 0.3613 - acc: 0.8710 - val_loss: 0.3407 - val_acc: 0.8783\n",
      "Epoch 3/50\n",
      "900/900 [==============================] - 15s 16ms/step - loss: 0.3124 - acc: 0.8868 - val_loss: 0.3113 - val_acc: 0.8895\n",
      "Epoch 4/50\n",
      "900/900 [==============================] - 14s 15ms/step - loss: 0.2808 - acc: 0.8994 - val_loss: 0.3111 - val_acc: 0.8899\n",
      "Epoch 5/50\n",
      "900/900 [==============================] - 13s 14ms/step - loss: 0.2574 - acc: 0.9080 - val_loss: 0.2840 - val_acc: 0.8959\n",
      "Epoch 6/50\n",
      "900/900 [==============================] - 13s 14ms/step - loss: 0.2378 - acc: 0.9144 - val_loss: 0.2643 - val_acc: 0.9033\n",
      "Epoch 7/50\n",
      "900/900 [==============================] - 13s 14ms/step - loss: 0.2216 - acc: 0.9180 - val_loss: 0.2641 - val_acc: 0.9031\n",
      "Epoch 8/50\n",
      "900/900 [==============================] - 13s 15ms/step - loss: 0.2088 - acc: 0.9228 - val_loss: 0.2571 - val_acc: 0.9081\n",
      "Epoch 9/50\n",
      "900/900 [==============================] - 13s 14ms/step - loss: 0.1977 - acc: 0.9280 - val_loss: 0.2688 - val_acc: 0.9070\n",
      "Epoch 10/50\n",
      "900/900 [==============================] - 13s 14ms/step - loss: 0.1806 - acc: 0.9342 - val_loss: 0.2557 - val_acc: 0.9108\n",
      "Epoch 11/50\n",
      "900/900 [==============================] - 13s 14ms/step - loss: 0.1714 - acc: 0.9385 - val_loss: 0.2712 - val_acc: 0.9065\n",
      "Epoch 12/50\n",
      "900/900 [==============================] - 12s 14ms/step - loss: 0.1591 - acc: 0.9433 - val_loss: 0.2630 - val_acc: 0.9060\n",
      "Epoch 13/50\n",
      "900/900 [==============================] - 12s 14ms/step - loss: 0.1559 - acc: 0.9428 - val_loss: 0.2502 - val_acc: 0.9148\n",
      "Epoch 14/50\n",
      "900/900 [==============================] - 12s 14ms/step - loss: 0.1419 - acc: 0.9473 - val_loss: 0.2532 - val_acc: 0.9152\n",
      "Epoch 15/50\n",
      "900/900 [==============================] - 13s 14ms/step - loss: 0.1352 - acc: 0.9491 - val_loss: 0.2594 - val_acc: 0.9141\n",
      "Epoch 16/50\n",
      "900/900 [==============================] - 13s 14ms/step - loss: 0.1238 - acc: 0.9542 - val_loss: 0.2709 - val_acc: 0.9149\n",
      "Epoch 00016: early stopping\n"
     ]
    }
   ],
   "source": [
    "# 랜덤시드값\n",
    "tf.random.set_seed(14)\n",
    "# 시퀀셜객체생성\n",
    "model = Sequential()\n",
    "\n",
    "# 합성곱레이어\n",
    "# 파라미터\n",
    "# feature map의 차원\n",
    "# 필터의 크기(튜플) == 커널사이즈\n",
    "# padding : same 입력과 출력형태를 동일하게\n",
    "# activation : 활성화함수\n",
    "# input_shape : 입력데이터 차원\n",
    "model.add(Conv2D(16, (3,3), padding='same', activation='relu', input_shape=(28,28,1)))\n",
    "# 풀링레이어\n",
    "# pool_size : 풀링레이어에서 사용할 커널사이즈\n",
    "model.add(MaxPool2D((2,2)))\n",
    "\n",
    "model.add(Conv2D(32, (3,3), padding='same', activation='relu'))\n",
    "model.add(MaxPool2D((2,2)))\n",
    "\n",
    "# 평탄화\n",
    "model.add(Flatten())\n",
    "model.add(Dense(32, activation='relu'))\n",
    "# 출력레이어\n",
    "model.add(Dense(10, activation='softmax'))\n",
    "\n",
    "# 모델의 구조확인\n",
    "#model.summary()\n",
    "\n",
    "# 모델 설정\n",
    "model.compile(optimizer='adam', loss='categorical_crossentropy', metrics=['acc'])\n",
    "\n",
    "# Early Stopping\n",
    "es = tf.keras.callbacks.EarlyStopping(monitor='val_loss',patience=3, verbose=1)\n",
    "# 학습\n",
    "history = model.fit(train_x, train_y, epochs=50, batch_size=50, validation_data=(valid_x, valid_y), callbacks=[es])"
   ]
  },
  {
   "cell_type": "markdown",
   "metadata": {},
   "source": [
    "### Model Checkpoint\n",
    "* Early Stopping에 의해서 학습이 중지된 상태가 최적의 상태는 아님\n",
    "* validation 성능이 가장 좋은 상태의 모델을 저장"
   ]
  },
  {
   "cell_type": "code",
   "execution_count": 29,
   "metadata": {},
   "outputs": [
    {
     "name": "stdout",
     "output_type": "stream",
     "text": [
      "Epoch 1/50\n",
      "900/900 [==============================] - 16s 17ms/step - loss: 0.7846 - acc: 0.7150 - val_loss: 0.3913 - val_acc: 0.8627\n",
      "INFO:tensorflow:Assets written to: bestmodel.cp\\assets\n",
      "Epoch 2/50\n",
      "900/900 [==============================] - 15s 17ms/step - loss: 0.3613 - acc: 0.8710 - val_loss: 0.3407 - val_acc: 0.8783\n",
      "INFO:tensorflow:Assets written to: bestmodel.cp\\assets\n",
      "Epoch 3/50\n",
      "900/900 [==============================] - 15s 16ms/step - loss: 0.3124 - acc: 0.8868 - val_loss: 0.3113 - val_acc: 0.8895\n",
      "INFO:tensorflow:Assets written to: bestmodel.cp\\assets\n",
      "Epoch 4/50\n",
      "900/900 [==============================] - 14s 16ms/step - loss: 0.2808 - acc: 0.8994 - val_loss: 0.3111 - val_acc: 0.8899\n",
      "INFO:tensorflow:Assets written to: bestmodel.cp\\assets\n",
      "Epoch 5/50\n",
      "900/900 [==============================] - 13s 15ms/step - loss: 0.2574 - acc: 0.9080 - val_loss: 0.2840 - val_acc: 0.8959\n",
      "INFO:tensorflow:Assets written to: bestmodel.cp\\assets\n",
      "Epoch 6/50\n",
      "900/900 [==============================] - 13s 15ms/step - loss: 0.2378 - acc: 0.9144 - val_loss: 0.2643 - val_acc: 0.9033\n",
      "INFO:tensorflow:Assets written to: bestmodel.cp\\assets\n",
      "Epoch 7/50\n",
      "900/900 [==============================] - 13s 14ms/step - loss: 0.2216 - acc: 0.9180 - val_loss: 0.2641 - val_acc: 0.9031\n",
      "INFO:tensorflow:Assets written to: bestmodel.cp\\assets\n",
      "Epoch 8/50\n",
      "900/900 [==============================] - 13s 15ms/step - loss: 0.2088 - acc: 0.9228 - val_loss: 0.2571 - val_acc: 0.9081\n",
      "INFO:tensorflow:Assets written to: bestmodel.cp\\assets\n",
      "Epoch 9/50\n",
      "900/900 [==============================] - 13s 15ms/step - loss: 0.1977 - acc: 0.9280 - val_loss: 0.2688 - val_acc: 0.9070\n",
      "Epoch 10/50\n",
      "900/900 [==============================] - 13s 15ms/step - loss: 0.1806 - acc: 0.9342 - val_loss: 0.2557 - val_acc: 0.9108\n",
      "INFO:tensorflow:Assets written to: bestmodel.cp\\assets\n",
      "Epoch 11/50\n",
      "900/900 [==============================] - 13s 15ms/step - loss: 0.1714 - acc: 0.9385 - val_loss: 0.2712 - val_acc: 0.9065\n",
      "Epoch 12/50\n",
      "900/900 [==============================] - 13s 15ms/step - loss: 0.1591 - acc: 0.9433 - val_loss: 0.2630 - val_acc: 0.9060\n",
      "Epoch 13/50\n",
      "900/900 [==============================] - 13s 15ms/step - loss: 0.1559 - acc: 0.9428 - val_loss: 0.2502 - val_acc: 0.9148\n",
      "INFO:tensorflow:Assets written to: bestmodel.cp\\assets\n",
      "Epoch 14/50\n",
      "900/900 [==============================] - 14s 15ms/step - loss: 0.1419 - acc: 0.9473 - val_loss: 0.2532 - val_acc: 0.9152\n",
      "Epoch 15/50\n",
      "900/900 [==============================] - 14s 15ms/step - loss: 0.1352 - acc: 0.9491 - val_loss: 0.2594 - val_acc: 0.9141\n",
      "Epoch 16/50\n",
      "900/900 [==============================] - 14s 15ms/step - loss: 0.1238 - acc: 0.9542 - val_loss: 0.2709 - val_acc: 0.9149\n",
      "Epoch 00016: early stopping\n"
     ]
    }
   ],
   "source": [
    "# 랜덤시드값\n",
    "tf.random.set_seed(14)\n",
    "# 시퀀셜객체생성\n",
    "model = Sequential()\n",
    "\n",
    "# 합성곱레이어\n",
    "# 파라미터\n",
    "# feature map의 차원\n",
    "# 필터의 크기(튜플) == 커널사이즈\n",
    "# padding : same 입력과 출력형태를 동일하게\n",
    "# activation : 활성화함수\n",
    "# input_shape : 입력데이터 차원\n",
    "model.add(Conv2D(16, (3,3), padding='same', activation='relu', input_shape=(28,28,1)))\n",
    "# 풀링레이어\n",
    "# pool_size : 풀링레이어에서 사용할 커널사이즈\n",
    "model.add(MaxPool2D((2,2)))\n",
    "\n",
    "model.add(Conv2D(32, (3,3), padding='same', activation='relu'))\n",
    "model.add(MaxPool2D((2,2)))\n",
    "\n",
    "# 평탄화\n",
    "model.add(Flatten())\n",
    "model.add(Dense(32, activation='relu'))\n",
    "# 출력레이어\n",
    "model.add(Dense(10, activation='softmax'))\n",
    "\n",
    "# 모델의 구조확인\n",
    "#model.summary()\n",
    "\n",
    "# 모델 설정\n",
    "model.compile(optimizer='adam', loss='categorical_crossentropy', metrics=['acc'])\n",
    "\n",
    "# Early Stopping\n",
    "es = tf.keras.callbacks.EarlyStopping(monitor='val_loss',patience=3, verbose=1)\n",
    "# ModelCheckpoint\n",
    "mc = tf.keras.callbacks.ModelCheckpoint('bestmodel.cp', monitor='val_loss', mode='min', save_best_only=True)\n",
    "# 학습\n",
    "history = model.fit(train_x, train_y, epochs=50, batch_size=50, validation_data=(valid_x, valid_y), callbacks=[es,mc])"
   ]
  },
  {
   "cell_type": "markdown",
   "metadata": {},
   "source": [
    "* 가중치,옵티마이저를 포함하여 저장된 모델을 불러오기"
   ]
  },
  {
   "cell_type": "code",
   "execution_count": 30,
   "metadata": {},
   "outputs": [
    {
     "name": "stdout",
     "output_type": "stream",
     "text": [
      "Model: \"sequential_7\"\n",
      "_________________________________________________________________\n",
      "Layer (type)                 Output Shape              Param #   \n",
      "=================================================================\n",
      "conv2d_14 (Conv2D)           (None, 28, 28, 16)        160       \n",
      "_________________________________________________________________\n",
      "max_pooling2d_14 (MaxPooling (None, 14, 14, 16)        0         \n",
      "_________________________________________________________________\n",
      "conv2d_15 (Conv2D)           (None, 14, 14, 32)        4640      \n",
      "_________________________________________________________________\n",
      "max_pooling2d_15 (MaxPooling (None, 7, 7, 32)          0         \n",
      "_________________________________________________________________\n",
      "flatten_7 (Flatten)          (None, 1568)              0         \n",
      "_________________________________________________________________\n",
      "dense_14 (Dense)             (None, 32)                50208     \n",
      "_________________________________________________________________\n",
      "dense_15 (Dense)             (None, 10)                330       \n",
      "=================================================================\n",
      "Total params: 55,338\n",
      "Trainable params: 55,338\n",
      "Non-trainable params: 0\n",
      "_________________________________________________________________\n"
     ]
    }
   ],
   "source": [
    "new_model = tf.keras.models.load_model('bestmodel.cp')\n",
    "# 모델의 구조\n",
    "new_model.summary()"
   ]
  },
  {
   "cell_type": "code",
   "execution_count": 31,
   "metadata": {},
   "outputs": [
    {
     "name": "stdout",
     "output_type": "stream",
     "text": [
      "              precision    recall  f1-score   support\n",
      "\n",
      "           0       0.85      0.87      0.86      1000\n",
      "           1       0.99      0.98      0.98      1000\n",
      "           2       0.84      0.87      0.86      1000\n",
      "           3       0.92      0.91      0.91      1000\n",
      "           4       0.87      0.87      0.87      1000\n",
      "           5       0.98      0.98      0.98      1000\n",
      "           6       0.77      0.73      0.75      1000\n",
      "           7       0.95      0.96      0.96      1000\n",
      "           8       0.98      0.98      0.98      1000\n",
      "           9       0.97      0.96      0.96      1000\n",
      "\n",
      "    accuracy                           0.91     10000\n",
      "   macro avg       0.91      0.91      0.91     10000\n",
      "weighted avg       0.91      0.91      0.91     10000\n",
      "\n"
     ]
    }
   ],
   "source": [
    "pred = new_model.predict(test_x)\n",
    "print(classification_report(np.argmax(test_y, axis=1), np.argmax(pred,axis=1)))"
   ]
  },
  {
   "cell_type": "markdown",
   "metadata": {},
   "source": [
    "#### 성능개선을 위한 방법(사후)\n",
    "* 그래프를 그려서 확인\n",
    "* Dropout\n",
    "* EarlyStopping\n",
    "* ModelCheckpoint\n",
    "\n",
    "\n",
    "* 데이터 전처리\n",
    "* 데이터를 더 수집"
   ]
  }
 ],
 "metadata": {
  "kernelspec": {
   "display_name": "Python 3",
   "language": "python",
   "name": "python3"
  },
  "language_info": {
   "codemirror_mode": {
    "name": "ipython",
    "version": 3
   },
   "file_extension": ".py",
   "mimetype": "text/x-python",
   "name": "python",
   "nbconvert_exporter": "python",
   "pygments_lexer": "ipython3",
   "version": "3.8.5"
  }
 },
 "nbformat": 4,
 "nbformat_minor": 4
}
