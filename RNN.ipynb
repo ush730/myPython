{
 "cells": [
  {
   "cell_type": "markdown",
   "metadata": {},
   "source": [
    "### RNN (Recurrent Neural Network, 순환 신경망)"
   ]
  },
  {
   "cell_type": "code",
   "execution_count": 2,
   "metadata": {},
   "outputs": [],
   "source": [
    "# imdb\n",
    "# 영화 후기 텍스트 데이터\n",
    "from tensorflow.keras import datasets\n",
    "data = datasets.imdb\n",
    "\n",
    "# 훈련에 사용될 단어개수\n",
    "NUM_WORDS = 1000\n",
    "\n",
    "(train_x, train_y), (test_x, test_y) = data.load_data(num_words=NUM_WORDS)"
   ]
  },
  {
   "cell_type": "code",
   "execution_count": 3,
   "metadata": {},
   "outputs": [
    {
     "data": {
      "text/plain": [
       "((25000,), (25000,), (25000,), (25000,))"
      ]
     },
     "execution_count": 3,
     "metadata": {},
     "output_type": "execute_result"
    }
   ],
   "source": [
    "train_x.shape, train_y.shape, test_x.shape, test_y.shape"
   ]
  },
  {
   "cell_type": "code",
   "execution_count": 4,
   "metadata": {
    "collapsed": true
   },
   "outputs": [
    {
     "data": {
      "text/plain": [
       "[1,\n",
       " 14,\n",
       " 22,\n",
       " 16,\n",
       " 43,\n",
       " 530,\n",
       " 973,\n",
       " 2,\n",
       " 2,\n",
       " 65,\n",
       " 458,\n",
       " 2,\n",
       " 66,\n",
       " 2,\n",
       " 4,\n",
       " 173,\n",
       " 36,\n",
       " 256,\n",
       " 5,\n",
       " 25,\n",
       " 100,\n",
       " 43,\n",
       " 838,\n",
       " 112,\n",
       " 50,\n",
       " 670,\n",
       " 2,\n",
       " 9,\n",
       " 35,\n",
       " 480,\n",
       " 284,\n",
       " 5,\n",
       " 150,\n",
       " 4,\n",
       " 172,\n",
       " 112,\n",
       " 167,\n",
       " 2,\n",
       " 336,\n",
       " 385,\n",
       " 39,\n",
       " 4,\n",
       " 172,\n",
       " 2,\n",
       " 2,\n",
       " 17,\n",
       " 546,\n",
       " 38,\n",
       " 13,\n",
       " 447,\n",
       " 4,\n",
       " 192,\n",
       " 50,\n",
       " 16,\n",
       " 6,\n",
       " 147,\n",
       " 2,\n",
       " 19,\n",
       " 14,\n",
       " 22,\n",
       " 4,\n",
       " 2,\n",
       " 2,\n",
       " 469,\n",
       " 4,\n",
       " 22,\n",
       " 71,\n",
       " 87,\n",
       " 12,\n",
       " 16,\n",
       " 43,\n",
       " 530,\n",
       " 38,\n",
       " 76,\n",
       " 15,\n",
       " 13,\n",
       " 2,\n",
       " 4,\n",
       " 22,\n",
       " 17,\n",
       " 515,\n",
       " 17,\n",
       " 12,\n",
       " 16,\n",
       " 626,\n",
       " 18,\n",
       " 2,\n",
       " 5,\n",
       " 62,\n",
       " 386,\n",
       " 12,\n",
       " 8,\n",
       " 316,\n",
       " 8,\n",
       " 106,\n",
       " 5,\n",
       " 4,\n",
       " 2,\n",
       " 2,\n",
       " 16,\n",
       " 480,\n",
       " 66,\n",
       " 2,\n",
       " 33,\n",
       " 4,\n",
       " 130,\n",
       " 12,\n",
       " 16,\n",
       " 38,\n",
       " 619,\n",
       " 5,\n",
       " 25,\n",
       " 124,\n",
       " 51,\n",
       " 36,\n",
       " 135,\n",
       " 48,\n",
       " 25,\n",
       " 2,\n",
       " 33,\n",
       " 6,\n",
       " 22,\n",
       " 12,\n",
       " 215,\n",
       " 28,\n",
       " 77,\n",
       " 52,\n",
       " 5,\n",
       " 14,\n",
       " 407,\n",
       " 16,\n",
       " 82,\n",
       " 2,\n",
       " 8,\n",
       " 4,\n",
       " 107,\n",
       " 117,\n",
       " 2,\n",
       " 15,\n",
       " 256,\n",
       " 4,\n",
       " 2,\n",
       " 7,\n",
       " 2,\n",
       " 5,\n",
       " 723,\n",
       " 36,\n",
       " 71,\n",
       " 43,\n",
       " 530,\n",
       " 476,\n",
       " 26,\n",
       " 400,\n",
       " 317,\n",
       " 46,\n",
       " 7,\n",
       " 4,\n",
       " 2,\n",
       " 2,\n",
       " 13,\n",
       " 104,\n",
       " 88,\n",
       " 4,\n",
       " 381,\n",
       " 15,\n",
       " 297,\n",
       " 98,\n",
       " 32,\n",
       " 2,\n",
       " 56,\n",
       " 26,\n",
       " 141,\n",
       " 6,\n",
       " 194,\n",
       " 2,\n",
       " 18,\n",
       " 4,\n",
       " 226,\n",
       " 22,\n",
       " 21,\n",
       " 134,\n",
       " 476,\n",
       " 26,\n",
       " 480,\n",
       " 5,\n",
       " 144,\n",
       " 30,\n",
       " 2,\n",
       " 18,\n",
       " 51,\n",
       " 36,\n",
       " 28,\n",
       " 224,\n",
       " 92,\n",
       " 25,\n",
       " 104,\n",
       " 4,\n",
       " 226,\n",
       " 65,\n",
       " 16,\n",
       " 38,\n",
       " 2,\n",
       " 88,\n",
       " 12,\n",
       " 16,\n",
       " 283,\n",
       " 5,\n",
       " 16,\n",
       " 2,\n",
       " 113,\n",
       " 103,\n",
       " 32,\n",
       " 15,\n",
       " 16,\n",
       " 2,\n",
       " 19,\n",
       " 178,\n",
       " 32]"
      ]
     },
     "execution_count": 4,
     "metadata": {},
     "output_type": "execute_result"
    }
   ],
   "source": [
    "# BOW (Bag Of Words)\n",
    "train_x[0]"
   ]
  },
  {
   "cell_type": "code",
   "execution_count": 6,
   "metadata": {},
   "outputs": [
    {
     "data": {
      "text/plain": [
       "(218, 189)"
      ]
     },
     "execution_count": 6,
     "metadata": {},
     "output_type": "execute_result"
    }
   ],
   "source": [
    "# 길이가 데이터마다 다름 -> 학습안됨\n",
    "len(train_x[0]), len(train_x[1])"
   ]
  },
  {
   "cell_type": "code",
   "execution_count": 10,
   "metadata": {},
   "outputs": [],
   "source": [
    "# 데이터의 길이를 동일하게 맞추기\n",
    "from tensorflow.keras.preprocessing.sequence import pad_sequences\n",
    "\n",
    "maxlen = 200\n",
    "train_x_pad = pad_sequences(train_x, maxlen=maxlen, padding='pre')\n",
    "test_x_pad = pad_sequences(test_x, maxlen=maxlen, padding='pre')"
   ]
  },
  {
   "cell_type": "code",
   "execution_count": 11,
   "metadata": {},
   "outputs": [
    {
     "data": {
      "text/plain": [
       "(200, 200)"
      ]
     },
     "execution_count": 11,
     "metadata": {},
     "output_type": "execute_result"
    }
   ],
   "source": [
    "len(train_x_pad[0]), len(test_x_pad[0])"
   ]
  },
  {
   "cell_type": "code",
   "execution_count": 13,
   "metadata": {
    "collapsed": true
   },
   "outputs": [
    {
     "data": {
      "text/plain": [
       "array([  0,   0,   0,   0,   0,   0,   0,   0,   0,   0,   0,   1, 194,\n",
       "         2, 194,   2,  78, 228,   5,   6,   2,   2,   2, 134,  26,   4,\n",
       "       715,   8, 118,   2,  14, 394,  20,  13, 119, 954, 189, 102,   5,\n",
       "       207, 110,   2,  21,  14,  69, 188,   8,  30,  23,   7,   4, 249,\n",
       "       126,  93,   4, 114,   9,   2,   2,   5, 647,   4, 116,   9,  35,\n",
       "         2,   4, 229,   9, 340,   2,   4, 118,   9,   4, 130,   2,  19,\n",
       "         4,   2,   5,  89,  29, 952,  46,  37,   4, 455,   9,  45,  43,\n",
       "        38,   2,   2, 398,   4,   2,  26,   2,   5, 163,  11,   2,   2,\n",
       "         4,   2,   9, 194, 775,   7,   2,   2, 349,   2, 148, 605,   2,\n",
       "         2,  15, 123, 125,  68,   2,   2,  15, 349, 165,   2,  98,   5,\n",
       "         4, 228,   9,  43,   2,   2,  15, 299, 120,   5, 120, 174,  11,\n",
       "       220, 175, 136,  50,   9,   2, 228,   2,   5,   2, 656, 245,   2,\n",
       "         5,   4,   2, 131, 152, 491,  18,   2,  32,   2,   2,  14,   9,\n",
       "         6, 371,  78,  22, 625,  64,   2,   9,   8, 168, 145,  23,   4,\n",
       "         2,  15,  16,   4,   2,   5,  28,   6,  52, 154, 462,  33,  89,\n",
       "        78, 285,  16, 145,  95])"
      ]
     },
     "execution_count": 13,
     "metadata": {},
     "output_type": "execute_result"
    }
   ],
   "source": [
    "train_x_pad[1]"
   ]
  },
  {
   "cell_type": "code",
   "execution_count": 14,
   "metadata": {},
   "outputs": [],
   "source": [
    "from tensorflow.keras.models import Sequential\n",
    "from tensorflow.keras.layers import Dense, SimpleRNN, Embedding"
   ]
  },
  {
   "cell_type": "markdown",
   "metadata": {},
   "source": [
    "### RNN"
   ]
  },
  {
   "cell_type": "code",
   "execution_count": 16,
   "metadata": {},
   "outputs": [
    {
     "name": "stdout",
     "output_type": "stream",
     "text": [
      "Epoch 1/10\n",
      "782/782 [==============================] - 28s 33ms/step - loss: 0.6114 - acc: 0.6484\n",
      "Epoch 2/10\n",
      "782/782 [==============================] - 25s 32ms/step - loss: 0.4668 - acc: 0.7898\n",
      "Epoch 3/10\n",
      "782/782 [==============================] - 25s 32ms/step - loss: 0.3965 - acc: 0.8287\n",
      "Epoch 4/10\n",
      "782/782 [==============================] - 25s 33ms/step - loss: 0.4095 - acc: 0.8202 1s - loss:\n",
      "Epoch 5/10\n",
      "782/782 [==============================] - 25s 32ms/step - loss: 0.4537 - acc: 0.7861\n",
      "Epoch 6/10\n",
      "782/782 [==============================] - 25s 32ms/step - loss: 0.4797 - acc: 0.7702\n",
      "Epoch 7/10\n",
      "782/782 [==============================] - 26s 33ms/step - loss: 0.4239 - acc: 0.8117\n",
      "Epoch 8/10\n",
      "782/782 [==============================] - 26s 33ms/step - loss: 0.3770 - acc: 0.8408\n",
      "Epoch 9/10\n",
      "782/782 [==============================] - 26s 33ms/step - loss: 0.4984 - acc: 0.7634\n",
      "Epoch 10/10\n",
      "782/782 [==============================] - 25s 33ms/step - loss: 0.4227 - acc: 0.8093\n"
     ]
    },
    {
     "data": {
      "text/plain": [
       "<tensorflow.python.keras.callbacks.History at 0x213d7eb18b0>"
      ]
     },
     "execution_count": 16,
     "metadata": {},
     "output_type": "execute_result"
    }
   ],
   "source": [
    "# Embedding -> RNN -> Dense\n",
    "model = Sequential()\n",
    "\n",
    "# 입력레이어는 Embedding으로 벡터화\n",
    "model.add(Embedding(input_dim=NUM_WORDS, output_dim=32))\n",
    "\n",
    "# RNN 레이어\n",
    "model.add(SimpleRNN(16))\n",
    "\n",
    "# 출력 레이어\n",
    "model.add(Dense(1, activation='sigmoid'))\n",
    "\n",
    "# 설정\n",
    "model.compile(optimizer='adam', loss='binary_crossentropy', metrics=['acc'])\n",
    "\n",
    "#model.summary()\n",
    "# 학습\n",
    "model.fit(train_x_pad, train_y, epochs=10, batch_size=32)"
   ]
  },
  {
   "cell_type": "code",
   "execution_count": 17,
   "metadata": {},
   "outputs": [
    {
     "name": "stdout",
     "output_type": "stream",
     "text": [
      "Epoch 1/10\n",
      "625/625 [==============================] - 20s 31ms/step - loss: 0.3808 - acc: 0.8350 - val_loss: 0.3516 - val_acc: 0.8528\n",
      "Epoch 2/10\n",
      "625/625 [==============================] - 18s 29ms/step - loss: 0.3361 - acc: 0.8662 - val_loss: 0.3598 - val_acc: 0.8484\n",
      "Epoch 3/10\n",
      "625/625 [==============================] - 18s 29ms/step - loss: 0.3108 - acc: 0.8775 - val_loss: 0.6317 - val_acc: 0.7612\n",
      "Epoch 4/10\n",
      "625/625 [==============================] - 19s 30ms/step - loss: 0.4681 - acc: 0.7771 - val_loss: 0.4575 - val_acc: 0.7940\n",
      "Epoch 5/10\n",
      "625/625 [==============================] - 18s 29ms/step - loss: 0.3337 - acc: 0.8619 - val_loss: 0.4400 - val_acc: 0.8192\n",
      "Epoch 6/10\n",
      "625/625 [==============================] - 18s 30ms/step - loss: 0.3181 - acc: 0.8755 - val_loss: 0.4761 - val_acc: 0.7978\n",
      "Epoch 7/10\n",
      "625/625 [==============================] - 18s 30ms/step - loss: 0.2944 - acc: 0.8827 - val_loss: 0.5091 - val_acc: 0.7928\n",
      "Epoch 8/10\n",
      "625/625 [==============================] - 18s 30ms/step - loss: 0.2690 - acc: 0.8972 - val_loss: 0.5304 - val_acc: 0.7840\n",
      "Epoch 9/10\n",
      "625/625 [==============================] - 19s 30ms/step - loss: 0.2681 - acc: 0.8974 - val_loss: 0.5467 - val_acc: 0.7746\n",
      "Epoch 10/10\n",
      "625/625 [==============================] - 18s 29ms/step - loss: 0.3978 - acc: 0.8263 - val_loss: 0.5234 - val_acc: 0.7870\n"
     ]
    },
    {
     "data": {
      "text/plain": [
       "<tensorflow.python.keras.callbacks.History at 0x213d76d04c0>"
      ]
     },
     "execution_count": 17,
     "metadata": {},
     "output_type": "execute_result"
    }
   ],
   "source": [
    "# validation 적용\n",
    "model.fit(train_x_pad, train_y, epochs=10, batch_size=32, validation_split=0.2)"
   ]
  },
  {
   "cell_type": "markdown",
   "metadata": {},
   "source": [
    "### LSTM"
   ]
  },
  {
   "cell_type": "code",
   "execution_count": 18,
   "metadata": {},
   "outputs": [],
   "source": [
    "from tensorflow.keras.layers import LSTM"
   ]
  },
  {
   "cell_type": "code",
   "execution_count": 19,
   "metadata": {},
   "outputs": [
    {
     "name": "stdout",
     "output_type": "stream",
     "text": [
      "Epoch 1/10\n",
      "625/625 [==============================] - 27s 40ms/step - loss: 0.5772 - acc: 0.6748 - val_loss: 0.4020 - val_acc: 0.8276\n",
      "Epoch 2/10\n",
      "625/625 [==============================] - 25s 40ms/step - loss: 0.3617 - acc: 0.8484 - val_loss: 0.3707 - val_acc: 0.8390\n",
      "Epoch 3/10\n",
      "625/625 [==============================] - 24s 39ms/step - loss: 0.3204 - acc: 0.8648 - val_loss: 0.3734 - val_acc: 0.8430\n",
      "Epoch 4/10\n",
      "625/625 [==============================] - 24s 39ms/step - loss: 0.3062 - acc: 0.8713 - val_loss: 0.3418 - val_acc: 0.8542\n",
      "Epoch 5/10\n",
      "625/625 [==============================] - 24s 39ms/step - loss: 0.2919 - acc: 0.8797 - val_loss: 0.3708 - val_acc: 0.8432\n",
      "Epoch 6/10\n",
      "625/625 [==============================] - 24s 39ms/step - loss: 0.2931 - acc: 0.8774 - val_loss: 0.3738 - val_acc: 0.8480\n",
      "Epoch 7/10\n",
      "625/625 [==============================] - 24s 39ms/step - loss: 0.2802 - acc: 0.8829 - val_loss: 0.3612 - val_acc: 0.8424\n",
      "Epoch 8/10\n",
      "625/625 [==============================] - 24s 39ms/step - loss: 0.2664 - acc: 0.8871 - val_loss: 0.3917 - val_acc: 0.8224\n",
      "Epoch 9/10\n",
      "625/625 [==============================] - 25s 40ms/step - loss: 0.2683 - acc: 0.8910 - val_loss: 0.3607 - val_acc: 0.8504\n",
      "Epoch 10/10\n",
      "625/625 [==============================] - 25s 40ms/step - loss: 0.2528 - acc: 0.8928 - val_loss: 0.3561 - val_acc: 0.8508\n"
     ]
    },
    {
     "data": {
      "text/plain": [
       "<tensorflow.python.keras.callbacks.History at 0x213cbf42f10>"
      ]
     },
     "execution_count": 19,
     "metadata": {},
     "output_type": "execute_result"
    }
   ],
   "source": [
    "# Embedding -> RNN -> Dense\n",
    "model = Sequential()\n",
    "\n",
    "# 입력레이어는 Embedding으로 벡터화\n",
    "model.add(Embedding(input_dim=NUM_WORDS, output_dim=32))\n",
    "\n",
    "# LSTM 레이어\n",
    "model.add(LSTM(16))\n",
    "\n",
    "# 출력 레이어\n",
    "model.add(Dense(1, activation='sigmoid'))\n",
    "\n",
    "# 설정\n",
    "model.compile(optimizer='adam', loss='binary_crossentropy', metrics=['acc'])\n",
    "\n",
    "#model.summary()\n",
    "# 학습\n",
    "model.fit(train_x_pad, train_y, epochs=10, batch_size=32, validation_split=0.2)"
   ]
  },
  {
   "cell_type": "code",
   "execution_count": null,
   "metadata": {},
   "outputs": [],
   "source": []
  }
 ],
 "metadata": {
  "kernelspec": {
   "display_name": "Python 3",
   "language": "python",
   "name": "python3"
  },
  "language_info": {
   "codemirror_mode": {
    "name": "ipython",
    "version": 3
   },
   "file_extension": ".py",
   "mimetype": "text/x-python",
   "name": "python",
   "nbconvert_exporter": "python",
   "pygments_lexer": "ipython3",
   "version": "3.8.5"
  }
 },
 "nbformat": 4,
 "nbformat_minor": 4
}
