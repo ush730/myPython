{
 "cells": [
  {
   "cell_type": "markdown",
   "metadata": {},
   "source": [
    "### 감정분석\n",
    "* 텍스트에 숨겨져 있는 저장의 의도(감정, 정보)를 찾아내는 방법\n",
    "* Opinion mining, Sentiment mining\n",
    "* 지식기반(knowlege-base) : 사람(전문가)\n",
    "* 머신러닝기반(machine learning-base) : 대표적으로 긍정/부정\n",
    "    * text classification(텍스트 분류)"
   ]
  },
  {
   "cell_type": "markdown",
   "metadata": {},
   "source": [
    "#### 텍스트 분류\n",
    "* 벡터형태로 변환된 텍스트를 분류하는 방법\n",
    "* DNN이 나오기 전까지는 SVM 많이 사용\n",
    "* 최근은 딥러닝(RNN, LSTM) 많이 사용"
   ]
  },
  {
   "cell_type": "code",
   "execution_count": 1,
   "metadata": {},
   "outputs": [],
   "source": [
    "import pickle\n",
    "with open('train_text.pk', 'rb') as f:\n",
    "    train = pickle.load(f)\n",
    "with open('test_text.pk', 'rb') as f:\n",
    "    test = pickle.load(f)"
   ]
  },
  {
   "cell_type": "code",
   "execution_count": 2,
   "metadata": {},
   "outputs": [
    {
     "data": {
      "text/plain": [
       "(150000, 48760)"
      ]
     },
     "execution_count": 2,
     "metadata": {},
     "output_type": "execute_result"
    }
   ],
   "source": [
    "len(train), len(test)"
   ]
  },
  {
   "cell_type": "code",
   "execution_count": 7,
   "metadata": {},
   "outputs": [
    {
     "data": {
      "text/plain": [
       "[(['진짜', '짜증', '네요', '목소리'], '0'),\n",
       " (['포스터', '보고', '초딩', '영화', '오버', '연기', '가볍', '구나'], '1'),\n",
       " (['너무', '밓었', '추천', '한다'], '0'),\n",
       " (['교도소', '이야기', '구먼', '솔직히', '재미', '평점', '조정'], '0'),\n",
       " (['사이몬페그',\n",
       "   '익살',\n",
       "   '스런',\n",
       "   '연기',\n",
       "   '돋보였',\n",
       "   '영화',\n",
       "   '스파이더맨',\n",
       "   '보이',\n",
       "   '커스틴',\n",
       "   '던스트',\n",
       "   '너무나',\n",
       "   '이뻐',\n",
       "   '보였'],\n",
       "  '1')]"
      ]
     },
     "execution_count": 7,
     "metadata": {},
     "output_type": "execute_result"
    }
   ],
   "source": [
    "train[:5]"
   ]
  },
  {
   "cell_type": "code",
   "execution_count": 4,
   "metadata": {},
   "outputs": [
    {
     "data": {
      "text/plain": [
       "(['평점', '나쁘', '짜리', '더더욱', '잖아'], '0')"
      ]
     },
     "execution_count": 4,
     "metadata": {},
     "output_type": "execute_result"
    }
   ],
   "source": [
    "test[0]"
   ]
  },
  {
   "cell_type": "markdown",
   "metadata": {},
   "source": [
    "### NSMC 분류\n",
    "* 텍스트를 벡터화 머신러닝\n",
    "* pipeline 처리"
   ]
  },
  {
   "cell_type": "code",
   "execution_count": 3,
   "metadata": {},
   "outputs": [],
   "source": [
    "from sklearn.pipeline import Pipeline\n",
    "from sklearn.feature_extraction.text import CountVectorizer\n",
    "from sklearn.svm import SVC\n",
    "from sklearn.naive_bayes import MultinomialNB\n",
    "import numpy as np"
   ]
  },
  {
   "cell_type": "code",
   "execution_count": 4,
   "metadata": {},
   "outputs": [],
   "source": [
    "# 데이터 처리(학습/테스트셋 별 x,y)\n",
    "train_x = [' '.join(t) for t,c in train] # 학습데이터 문제\n",
    "train_y = [c for t,c in train] # 학습데이터 정답\n",
    "test_x = [' '.join(t) for t,c in test] # 테스트데이터 문제\n",
    "test_y = [c for t,c in test] # 테스트데이터 정답"
   ]
  },
  {
   "cell_type": "code",
   "execution_count": 6,
   "metadata": {},
   "outputs": [
    {
     "data": {
      "text/plain": [
       "['평점 나쁘 짜리 더더욱 잖아',\n",
       " '지루 은데 완전 막장',\n",
       " '어도 텐데 나와서 심기 불편',\n",
       " '음악 주가 최고 음악 영화',\n",
       " '진정 쓰레기']"
      ]
     },
     "execution_count": 6,
     "metadata": {},
     "output_type": "execute_result"
    }
   ],
   "source": [
    "test_x[:5]"
   ]
  },
  {
   "cell_type": "code",
   "execution_count": 16,
   "metadata": {},
   "outputs": [],
   "source": [
    "# 파이프라인\n",
    "model1 = Pipeline([\n",
    "    ('vector', CountVectorizer()),\n",
    "    ('model', SVC(kernel='linear'))\n",
    "])\n",
    "model2 = Pipeline([\n",
    "    ('vector', CountVectorizer()),\n",
    "    ('model', SVC(kernel='sigmoid'))\n",
    "])\n",
    "model3 = Pipeline([\n",
    "    ('vector', CountVectorizer()),\n",
    "    ('model', MultinomialNB())\n",
    "])"
   ]
  },
  {
   "cell_type": "code",
   "execution_count": 17,
   "metadata": {},
   "outputs": [
    {
     "name": "stdout",
     "output_type": "stream",
     "text": [
      "학습데이터 정확도:0.87698\n",
      "테스트데이터 정확도:0.8106439704675964\n"
     ]
    }
   ],
   "source": [
    "# model 변수에 파이프라인객체 대입\n",
    "model = model1\n",
    "\n",
    "model.fit(train_x, train_y) # 학습 (문제,답)\n",
    "pred_train = model.predict(train_x) # 예측\n",
    "train_acc = (pred_train==train_y).mean()\n",
    "print('학습데이터 정확도:{}'.format(train_acc))\n",
    "\n",
    "pred_test = model.predict(test_x) # 학습하지 않은 테스트데이터로 예측\n",
    "test_acc = (pred_test==test_y).mean()\n",
    "print('테스트데이터 정확도:{}'.format(test_acc))"
   ]
  },
  {
   "cell_type": "code",
   "execution_count": 7,
   "metadata": {},
   "outputs": [],
   "source": [
    "# 텍스트로 직접 예측\n",
    "from eunjeon import Mecab\n",
    "mecab = Mecab()\n",
    "model1 = Pipeline([\n",
    "    ('vector', CountVectorizer(tokenizer=mecab.pos)),\n",
    "    ('model', SVC(kernel='linear'))\n",
    "])"
   ]
  },
  {
   "cell_type": "code",
   "execution_count": 8,
   "metadata": {},
   "outputs": [],
   "source": [
    "def readFile(file):\n",
    "    with open(file, encoding='utf8') as f:\n",
    "        doc = [line.replace('\\n','').split('\\t') for line in f.readlines()]\n",
    "    return doc[1:]"
   ]
  },
  {
   "cell_type": "code",
   "execution_count": 9,
   "metadata": {},
   "outputs": [],
   "source": [
    "train_text = readFile('ratings_train.txt')\n",
    "test_text = readFile('ratings_test.txt')"
   ]
  },
  {
   "cell_type": "code",
   "execution_count": 11,
   "metadata": {},
   "outputs": [
    {
     "data": {
      "text/plain": [
       "['9976970', '아 더빙.. 진짜 짜증나네요 목소리', '0']"
      ]
     },
     "execution_count": 11,
     "metadata": {},
     "output_type": "execute_result"
    }
   ],
   "source": [
    "train_text[0]"
   ]
  },
  {
   "cell_type": "code",
   "execution_count": 10,
   "metadata": {},
   "outputs": [],
   "source": [
    "train_x = [text[1] for text in train_text]\n",
    "train_y = [text[2] for text in train_text]"
   ]
  },
  {
   "cell_type": "code",
   "execution_count": 14,
   "metadata": {},
   "outputs": [
    {
     "data": {
      "text/plain": [
       "Pipeline(steps=[('vector',\n",
       "                 CountVectorizer(tokenizer=<bound method Mecab.pos of <eunjeon._mecab.Mecab object at 0x000001ED247F7130>>)),\n",
       "                ('model', SVC(kernel='linear'))])"
      ]
     },
     "execution_count": 14,
     "metadata": {},
     "output_type": "execute_result"
    }
   ],
   "source": [
    "model1.fit(train_x[:1000], train_y[:1000])"
   ]
  },
  {
   "cell_type": "code",
   "execution_count": 15,
   "metadata": {},
   "outputs": [],
   "source": [
    "import numpy as np\n",
    "test = np.array([\n",
    "    '지루하지는 않은데 완전 막장임... 돈주고 보기에는....',\n",
    "    '음악이 주가 된, 최고의 음악영화',\n",
    "    '진정한 쓰레기'\n",
    "])"
   ]
  },
  {
   "cell_type": "code",
   "execution_count": 16,
   "metadata": {},
   "outputs": [],
   "source": [
    "pre = model1.predict(test)"
   ]
  },
  {
   "cell_type": "code",
   "execution_count": 17,
   "metadata": {},
   "outputs": [
    {
     "data": {
      "text/plain": [
       "array(['0', '1', '0'], dtype='<U1')"
      ]
     },
     "execution_count": 17,
     "metadata": {},
     "output_type": "execute_result"
    }
   ],
   "source": [
    "pre"
   ]
  },
  {
   "cell_type": "code",
   "execution_count": 19,
   "metadata": {},
   "outputs": [
    {
     "data": {
      "text/plain": [
       "array(['1'], dtype='<U1')"
      ]
     },
     "execution_count": 19,
     "metadata": {},
     "output_type": "execute_result"
    }
   ],
   "source": [
    "model1.predict(['넌 정말 착하고 재밌는 사람이야'])"
   ]
  },
  {
   "cell_type": "code",
   "execution_count": 20,
   "metadata": {},
   "outputs": [
    {
     "data": {
      "text/plain": [
       "array(['0'], dtype='<U1')"
      ]
     },
     "execution_count": 20,
     "metadata": {},
     "output_type": "execute_result"
    }
   ],
   "source": [
    "model1.predict(['넌 정말 쓰레기같은 사람이야'])"
   ]
  },
  {
   "cell_type": "code",
   "execution_count": null,
   "metadata": {},
   "outputs": [],
   "source": []
  }
 ],
 "metadata": {
  "kernelspec": {
   "display_name": "Python 3",
   "language": "python",
   "name": "python3"
  },
  "language_info": {
   "codemirror_mode": {
    "name": "ipython",
    "version": 3
   },
   "file_extension": ".py",
   "mimetype": "text/x-python",
   "name": "python",
   "nbconvert_exporter": "python",
   "pygments_lexer": "ipython3",
   "version": "3.8.5"
  }
 },
 "nbformat": 4,
 "nbformat_minor": 4
}
